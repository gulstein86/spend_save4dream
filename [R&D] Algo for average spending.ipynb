{
 "cells": [
  {
   "cell_type": "code",
   "execution_count": 1,
   "metadata": {},
   "outputs": [],
   "source": [
    "import pandas as pd\n",
    "import numpy as np\n",
    "from datetime import datetime\n",
    "import matplotlib.pyplot as plt\n",
    "import seaborn"
   ]
  },
  {
   "cell_type": "code",
   "execution_count": 3,
   "metadata": {},
   "outputs": [],
   "source": [
    "%matplotlib inline"
   ]
  },
  {
   "cell_type": "code",
   "execution_count": 2,
   "metadata": {},
   "outputs": [],
   "source": [
    "df = pd.read_csv('myTrx.csv', thousands=',', parse_dates=['Date'])"
   ]
  },
  {
   "cell_type": "code",
   "execution_count": 3,
   "metadata": {},
   "outputs": [
    {
     "data": {
      "text/plain": [
       "(71, 6)"
      ]
     },
     "execution_count": 3,
     "metadata": {},
     "output_type": "execute_result"
    }
   ],
   "source": [
    "df.shape"
   ]
  },
  {
   "cell_type": "code",
   "execution_count": 4,
   "metadata": {},
   "outputs": [
    {
     "data": {
      "text/html": [
       "<div>\n",
       "<style>\n",
       "    .dataframe thead tr:only-child th {\n",
       "        text-align: right;\n",
       "    }\n",
       "\n",
       "    .dataframe thead th {\n",
       "        text-align: left;\n",
       "    }\n",
       "\n",
       "    .dataframe tbody tr th {\n",
       "        vertical-align: top;\n",
       "    }\n",
       "</style>\n",
       "<table border=\"1\" class=\"dataframe\">\n",
       "  <thead>\n",
       "    <tr style=\"text-align: right;\">\n",
       "      <th></th>\n",
       "      <th>Date</th>\n",
       "      <th>Account Name</th>\n",
       "      <th>Description</th>\n",
       "      <th>Category</th>\n",
       "      <th>To With Sym</th>\n",
       "      <th>To Num.</th>\n",
       "    </tr>\n",
       "  </thead>\n",
       "  <tbody>\n",
       "    <tr>\n",
       "      <th>0</th>\n",
       "      <td>2013-05-17</td>\n",
       "      <td>Fuel</td>\n",
       "      <td>Petronas</td>\n",
       "      <td>Credit Card</td>\n",
       "      <td>RM30.00</td>\n",
       "      <td>30.00</td>\n",
       "    </tr>\n",
       "    <tr>\n",
       "      <th>1</th>\n",
       "      <td>2013-05-21</td>\n",
       "      <td>Fuel</td>\n",
       "      <td>Petronas</td>\n",
       "      <td>Credit Card</td>\n",
       "      <td>RM91.64</td>\n",
       "      <td>91.64</td>\n",
       "    </tr>\n",
       "    <tr>\n",
       "      <th>2</th>\n",
       "      <td>2013-05-28</td>\n",
       "      <td>Fuel</td>\n",
       "      <td>Shell</td>\n",
       "      <td>Credit Card</td>\n",
       "      <td>RM87.61</td>\n",
       "      <td>87.61</td>\n",
       "    </tr>\n",
       "    <tr>\n",
       "      <th>3</th>\n",
       "      <td>2013-12-05</td>\n",
       "      <td>Toll</td>\n",
       "      <td>Toll</td>\n",
       "      <td>Cash in Wallet</td>\n",
       "      <td>RM2.30</td>\n",
       "      <td>2.30</td>\n",
       "    </tr>\n",
       "    <tr>\n",
       "      <th>4</th>\n",
       "      <td>2013-05-18</td>\n",
       "      <td>Toll</td>\n",
       "      <td>Toll</td>\n",
       "      <td>Cash in Wallet</td>\n",
       "      <td>RM9.60</td>\n",
       "      <td>9.60</td>\n",
       "    </tr>\n",
       "  </tbody>\n",
       "</table>\n",
       "</div>"
      ],
      "text/plain": [
       "        Date Account Name Description        Category To With Sym  To Num.\n",
       "0 2013-05-17         Fuel    Petronas     Credit Card     RM30.00    30.00\n",
       "1 2013-05-21         Fuel    Petronas     Credit Card     RM91.64    91.64\n",
       "2 2013-05-28         Fuel       Shell     Credit Card     RM87.61    87.61\n",
       "3 2013-12-05         Toll        Toll  Cash in Wallet      RM2.30     2.30\n",
       "4 2013-05-18         Toll        Toll  Cash in Wallet      RM9.60     9.60"
      ]
     },
     "execution_count": 4,
     "metadata": {},
     "output_type": "execute_result"
    }
   ],
   "source": [
    "df.head()"
   ]
  },
  {
   "cell_type": "code",
   "execution_count": 5,
   "metadata": {},
   "outputs": [],
   "source": [
    "df_may13 = df[(df['Date'] >= '2013-05-01') & (df['Date'] < '2013-06-01')]"
   ]
  },
  {
   "cell_type": "code",
   "execution_count": 6,
   "metadata": {},
   "outputs": [
    {
     "data": {
      "text/plain": [
       "count      50.000000\n",
       "mean       71.768800\n",
       "std       226.727356\n",
       "min         2.000000\n",
       "25%         6.850000\n",
       "50%        10.150000\n",
       "75%        39.125000\n",
       "max      1300.000000\n",
       "Name: To Num., dtype: float64"
      ]
     },
     "execution_count": 6,
     "metadata": {},
     "output_type": "execute_result"
    }
   ],
   "source": [
    "df_may13['To Num.'].describe()"
   ]
  },
  {
   "cell_type": "code",
   "execution_count": 7,
   "metadata": {},
   "outputs": [
    {
     "name": "stdout",
     "output_type": "stream",
     "text": [
      "<class 'pandas.core.frame.DataFrame'>\n",
      "Int64Index: 50 entries, 0 to 70\n",
      "Data columns (total 6 columns):\n",
      "Date            50 non-null datetime64[ns]\n",
      "Account Name    50 non-null object\n",
      "Description     49 non-null object\n",
      "Category        50 non-null object\n",
      "To With Sym     50 non-null object\n",
      "To Num.         50 non-null float64\n",
      "dtypes: datetime64[ns](1), float64(1), object(4)\n",
      "memory usage: 2.7+ KB\n"
     ]
    }
   ],
   "source": [
    "df_may13.info()"
   ]
  },
  {
   "cell_type": "code",
   "execution_count": 8,
   "metadata": {},
   "outputs": [
    {
     "data": {
      "text/html": [
       "<div>\n",
       "<style>\n",
       "    .dataframe thead tr:only-child th {\n",
       "        text-align: right;\n",
       "    }\n",
       "\n",
       "    .dataframe thead th {\n",
       "        text-align: left;\n",
       "    }\n",
       "\n",
       "    .dataframe tbody tr th {\n",
       "        vertical-align: top;\n",
       "    }\n",
       "</style>\n",
       "<table border=\"1\" class=\"dataframe\">\n",
       "  <thead>\n",
       "    <tr style=\"text-align: right;\">\n",
       "      <th></th>\n",
       "      <th>To Num.</th>\n",
       "    </tr>\n",
       "  </thead>\n",
       "  <tbody>\n",
       "    <tr>\n",
       "      <th>count</th>\n",
       "      <td>50.000000</td>\n",
       "    </tr>\n",
       "    <tr>\n",
       "      <th>mean</th>\n",
       "      <td>71.768800</td>\n",
       "    </tr>\n",
       "    <tr>\n",
       "      <th>std</th>\n",
       "      <td>226.727356</td>\n",
       "    </tr>\n",
       "    <tr>\n",
       "      <th>min</th>\n",
       "      <td>2.000000</td>\n",
       "    </tr>\n",
       "    <tr>\n",
       "      <th>25%</th>\n",
       "      <td>6.850000</td>\n",
       "    </tr>\n",
       "    <tr>\n",
       "      <th>50%</th>\n",
       "      <td>10.150000</td>\n",
       "    </tr>\n",
       "    <tr>\n",
       "      <th>75%</th>\n",
       "      <td>39.125000</td>\n",
       "    </tr>\n",
       "    <tr>\n",
       "      <th>max</th>\n",
       "      <td>1300.000000</td>\n",
       "    </tr>\n",
       "  </tbody>\n",
       "</table>\n",
       "</div>"
      ],
      "text/plain": [
       "           To Num.\n",
       "count    50.000000\n",
       "mean     71.768800\n",
       "std     226.727356\n",
       "min       2.000000\n",
       "25%       6.850000\n",
       "50%      10.150000\n",
       "75%      39.125000\n",
       "max    1300.000000"
      ]
     },
     "execution_count": 8,
     "metadata": {},
     "output_type": "execute_result"
    }
   ],
   "source": [
    "df_may13.describe()"
   ]
  },
  {
   "cell_type": "code",
   "execution_count": 9,
   "metadata": {
    "scrolled": true
   },
   "outputs": [
    {
     "data": {
      "text/html": [
       "<div>\n",
       "<style>\n",
       "    .dataframe thead tr:only-child th {\n",
       "        text-align: right;\n",
       "    }\n",
       "\n",
       "    .dataframe thead th {\n",
       "        text-align: left;\n",
       "    }\n",
       "\n",
       "    .dataframe tbody tr th {\n",
       "        vertical-align: top;\n",
       "    }\n",
       "</style>\n",
       "<table border=\"1\" class=\"dataframe\">\n",
       "  <thead>\n",
       "    <tr style=\"text-align: right;\">\n",
       "      <th></th>\n",
       "      <th>To Num.</th>\n",
       "    </tr>\n",
       "    <tr>\n",
       "      <th>Date</th>\n",
       "      <th></th>\n",
       "    </tr>\n",
       "  </thead>\n",
       "  <tbody>\n",
       "    <tr>\n",
       "      <th>2013-05-06</th>\n",
       "      <td>10.88</td>\n",
       "    </tr>\n",
       "    <tr>\n",
       "      <th>2013-05-13</th>\n",
       "      <td>9.94</td>\n",
       "    </tr>\n",
       "    <tr>\n",
       "      <th>2013-05-14</th>\n",
       "      <td>83.77</td>\n",
       "    </tr>\n",
       "    <tr>\n",
       "      <th>2013-05-15</th>\n",
       "      <td>7.30</td>\n",
       "    </tr>\n",
       "    <tr>\n",
       "      <th>2013-05-16</th>\n",
       "      <td>26.80</td>\n",
       "    </tr>\n",
       "  </tbody>\n",
       "</table>\n",
       "</div>"
      ],
      "text/plain": [
       "            To Num.\n",
       "Date               \n",
       "2013-05-06    10.88\n",
       "2013-05-13     9.94\n",
       "2013-05-14    83.77\n",
       "2013-05-15     7.30\n",
       "2013-05-16    26.80"
      ]
     },
     "execution_count": 9,
     "metadata": {},
     "output_type": "execute_result"
    }
   ],
   "source": [
    "df_may13_group = df_may13.groupby('Date')['To Num.'].sum().to_frame()\n",
    "df_may13_group.iloc[:,0:2].head()"
   ]
  },
  {
   "cell_type": "code",
   "execution_count": 10,
   "metadata": {},
   "outputs": [
    {
     "name": "stdout",
     "output_type": "stream",
     "text": [
      "Populating the interactive namespace from numpy and matplotlib\n"
     ]
    },
    {
     "name": "stderr",
     "output_type": "stream",
     "text": [
      "C:\\Users\\A1825\\AppData\\Local\\Continuum\\anaconda3\\lib\\site-packages\\IPython\\core\\magics\\pylab.py:160: UserWarning: pylab import has clobbered these variables: ['datetime']\n",
      "`%matplotlib` prevents importing * from pylab and numpy\n",
      "  \"\\n`%matplotlib` prevents importing * from pylab and numpy\"\n"
     ]
    }
   ],
   "source": [
    "%pylab inline\n",
    "pylab.rcParams['figure.figsize'] = (15, 6) #changing the graph size"
   ]
  },
  {
   "cell_type": "code",
   "execution_count": 11,
   "metadata": {},
   "outputs": [
    {
     "data": {
      "text/plain": [
       "Date\n",
       "2013-05-06      10.88\n",
       "2013-05-13       9.94\n",
       "2013-05-14      83.77\n",
       "2013-05-15       7.30\n",
       "2013-05-16      26.80\n",
       "2013-05-17      62.91\n",
       "2013-05-18      70.60\n",
       "2013-05-19     178.50\n",
       "2013-05-20     214.41\n",
       "2013-05-21    1445.64\n",
       "2013-05-23      16.80\n",
       "2013-05-24      62.20\n",
       "2013-05-25      65.20\n",
       "2013-05-26      10.00\n",
       "2013-05-27      20.54\n",
       "2013-05-28    1273.17\n",
       "2013-05-29       8.50\n",
       "2013-05-30      18.28\n",
       "2013-05-31       3.00\n",
       "dtype: float64"
      ]
     },
     "execution_count": 11,
     "metadata": {},
     "output_type": "execute_result"
    }
   ],
   "source": [
    "pd.Series(df_may13_group['To Num.'].values,index=df_may13_group.index)"
   ]
  },
  {
   "cell_type": "code",
   "execution_count": 12,
   "metadata": {},
   "outputs": [],
   "source": [
    "import plotly \n",
    "plotly.tools.set_credentials_file(username='aswadi', api_key='FSrA2lPeOMMHNDkSaK7C')"
   ]
  },
  {
   "cell_type": "code",
   "execution_count": 13,
   "metadata": {
    "collapsed": true
   },
   "outputs": [
    {
     "data": {
      "text/html": [
       "<iframe id=\"igraph\" scrolling=\"no\" style=\"border:none;\" seamless=\"seamless\" src=\"https://plot.ly/~aswadi/20.embed\" height=\"525px\" width=\"100%\"></iframe>"
      ],
      "text/plain": [
       "<plotly.tools.PlotlyDisplay object>"
      ]
     },
     "execution_count": 13,
     "metadata": {},
     "output_type": "execute_result"
    }
   ],
   "source": [
    "import plotly.plotly as py\n",
    "# from plotly.graph_objs import *\n",
    "import plotly.graph_objs as go\n",
    "\n",
    "# data = [Bar(x=df_may13_group.index,y=df_may13_group['To Num.'].values)]\n",
    "\n",
    "# Create a trace\n",
    "trace = go.Scatter(x = df_may13_group.index,y = df_may13_group['To Num.'].values)\n",
    "\n",
    "# Edit the layout\n",
    "layout = dict(title = 'Total Spending',xaxis = dict(title = 'date'),yaxis = dict(title = 'Spending(MYR)'),)\n",
    "\n",
    "data = [trace]\n",
    "\n",
    "# py.iplot(data, layout = layout)\n",
    "fig = dict(data=data, layout=layout)\n",
    "py.iplot(fig, filename='save4dream')"
   ]
  },
  {
   "cell_type": "code",
   "execution_count": 11,
   "metadata": {},
   "outputs": [],
   "source": [
    "df_new = df"
   ]
  },
  {
   "cell_type": "code",
   "execution_count": 12,
   "metadata": {},
   "outputs": [],
   "source": [
    "# pd.Series(df_may13_group['To Num.'].values, df_may13_group.index.dt.dayofweek, index=df_may13_group.index)\n",
    "# pd.Series(df_may13_group.index).dt.dayofweek\n",
    "df_new['daysofweek'] = df['Date'].dt.weekday\n",
    "df_new['days'] = df['Date'].dt.weekday_name\n",
    "df_new['week'] = df['Date'].dt.week"
   ]
  },
  {
   "cell_type": "code",
   "execution_count": 13,
   "metadata": {},
   "outputs": [
    {
     "data": {
      "text/html": [
       "<div>\n",
       "<style>\n",
       "    .dataframe thead tr:only-child th {\n",
       "        text-align: right;\n",
       "    }\n",
       "\n",
       "    .dataframe thead th {\n",
       "        text-align: left;\n",
       "    }\n",
       "\n",
       "    .dataframe tbody tr th {\n",
       "        vertical-align: top;\n",
       "    }\n",
       "</style>\n",
       "<table border=\"1\" class=\"dataframe\">\n",
       "  <thead>\n",
       "    <tr style=\"text-align: right;\">\n",
       "      <th></th>\n",
       "      <th>Date</th>\n",
       "      <th>Account Name</th>\n",
       "      <th>Description</th>\n",
       "      <th>Category</th>\n",
       "      <th>To With Sym</th>\n",
       "      <th>To Num.</th>\n",
       "      <th>daysofweek</th>\n",
       "      <th>days</th>\n",
       "      <th>week</th>\n",
       "    </tr>\n",
       "  </thead>\n",
       "  <tbody>\n",
       "    <tr>\n",
       "      <th>0</th>\n",
       "      <td>2013-05-17</td>\n",
       "      <td>Fuel</td>\n",
       "      <td>Petronas</td>\n",
       "      <td>Credit Card</td>\n",
       "      <td>RM30.00</td>\n",
       "      <td>30.00</td>\n",
       "      <td>4</td>\n",
       "      <td>Friday</td>\n",
       "      <td>20</td>\n",
       "    </tr>\n",
       "    <tr>\n",
       "      <th>1</th>\n",
       "      <td>2013-05-21</td>\n",
       "      <td>Fuel</td>\n",
       "      <td>Petronas</td>\n",
       "      <td>Credit Card</td>\n",
       "      <td>RM91.64</td>\n",
       "      <td>91.64</td>\n",
       "      <td>1</td>\n",
       "      <td>Tuesday</td>\n",
       "      <td>21</td>\n",
       "    </tr>\n",
       "    <tr>\n",
       "      <th>2</th>\n",
       "      <td>2013-05-28</td>\n",
       "      <td>Fuel</td>\n",
       "      <td>Shell</td>\n",
       "      <td>Credit Card</td>\n",
       "      <td>RM87.61</td>\n",
       "      <td>87.61</td>\n",
       "      <td>1</td>\n",
       "      <td>Tuesday</td>\n",
       "      <td>22</td>\n",
       "    </tr>\n",
       "    <tr>\n",
       "      <th>3</th>\n",
       "      <td>2013-12-05</td>\n",
       "      <td>Toll</td>\n",
       "      <td>Toll</td>\n",
       "      <td>Cash in Wallet</td>\n",
       "      <td>RM2.30</td>\n",
       "      <td>2.30</td>\n",
       "      <td>3</td>\n",
       "      <td>Thursday</td>\n",
       "      <td>49</td>\n",
       "    </tr>\n",
       "    <tr>\n",
       "      <th>4</th>\n",
       "      <td>2013-05-18</td>\n",
       "      <td>Toll</td>\n",
       "      <td>Toll</td>\n",
       "      <td>Cash in Wallet</td>\n",
       "      <td>RM9.60</td>\n",
       "      <td>9.60</td>\n",
       "      <td>5</td>\n",
       "      <td>Saturday</td>\n",
       "      <td>20</td>\n",
       "    </tr>\n",
       "  </tbody>\n",
       "</table>\n",
       "</div>"
      ],
      "text/plain": [
       "        Date Account Name Description        Category To With Sym  To Num.  \\\n",
       "0 2013-05-17         Fuel    Petronas     Credit Card     RM30.00    30.00   \n",
       "1 2013-05-21         Fuel    Petronas     Credit Card     RM91.64    91.64   \n",
       "2 2013-05-28         Fuel       Shell     Credit Card     RM87.61    87.61   \n",
       "3 2013-12-05         Toll        Toll  Cash in Wallet      RM2.30     2.30   \n",
       "4 2013-05-18         Toll        Toll  Cash in Wallet      RM9.60     9.60   \n",
       "\n",
       "   daysofweek      days  week  \n",
       "0           4    Friday    20  \n",
       "1           1   Tuesday    21  \n",
       "2           1   Tuesday    22  \n",
       "3           3  Thursday    49  \n",
       "4           5  Saturday    20  "
      ]
     },
     "execution_count": 13,
     "metadata": {},
     "output_type": "execute_result"
    }
   ],
   "source": [
    "df_new.head()"
   ]
  },
  {
   "cell_type": "code",
   "execution_count": 14,
   "metadata": {},
   "outputs": [],
   "source": [
    "df_new_may13 = df_new[(df_new['Date'] >= '2013-05-01') & (df_new['Date'] < '2013-06-01')]\n",
    "dataset = df_new_may13.groupby(['week','daysofweek'])['To Num.'].sum().to_frame().reset_index()"
   ]
  },
  {
   "cell_type": "code",
   "execution_count": 15,
   "metadata": {},
   "outputs": [],
   "source": [
    "dataset.columns = ['week','daysofweek','spending']"
   ]
  },
  {
   "cell_type": "code",
   "execution_count": 16,
   "metadata": {},
   "outputs": [],
   "source": [
    "# dataset[(dataset['week'] == 20)]['week'].values\n",
    "test = dataset[(dataset['week'] == 20)][['daysofweek','spending']]"
   ]
  },
  {
   "cell_type": "code",
   "execution_count": 17,
   "metadata": {},
   "outputs": [
    {
     "ename": "KeyError",
     "evalue": "\"['To Num.'] not in index\"",
     "output_type": "error",
     "traceback": [
      "\u001b[1;31m---------------------------------------------------------------------------\u001b[0m",
      "\u001b[1;31mKeyError\u001b[0m                                  Traceback (most recent call last)",
      "\u001b[1;32m<ipython-input-17-5ad1401497fb>\u001b[0m in \u001b[0;36m<module>\u001b[1;34m()\u001b[0m\n\u001b[1;32m----> 1\u001b[1;33m \u001b[0mtest\u001b[0m \u001b[1;33m=\u001b[0m \u001b[0mdataset\u001b[0m\u001b[1;33m[\u001b[0m\u001b[1;33m(\u001b[0m\u001b[0mdataset\u001b[0m\u001b[1;33m[\u001b[0m\u001b[1;34m'week'\u001b[0m\u001b[1;33m]\u001b[0m \u001b[1;33m==\u001b[0m \u001b[1;36m20\u001b[0m\u001b[1;33m)\u001b[0m\u001b[1;33m]\u001b[0m\u001b[1;33m[\u001b[0m\u001b[1;33m[\u001b[0m\u001b[1;34m'daysofweek'\u001b[0m\u001b[1;33m,\u001b[0m\u001b[1;34m'To Num.'\u001b[0m\u001b[1;33m]\u001b[0m\u001b[1;33m]\u001b[0m\u001b[1;33m.\u001b[0m\u001b[0mto_json\u001b[0m\u001b[1;33m(\u001b[0m\u001b[0morient\u001b[0m\u001b[1;33m=\u001b[0m\u001b[1;34m'values'\u001b[0m\u001b[1;33m)\u001b[0m\u001b[1;33m.\u001b[0m\u001b[0mreplace\u001b[0m\u001b[1;33m(\u001b[0m\u001b[1;34m','\u001b[0m\u001b[1;33m,\u001b[0m \u001b[1;34m':'\u001b[0m\u001b[1;33m)\u001b[0m\u001b[1;33m.\u001b[0m\u001b[0mreplace\u001b[0m\u001b[1;33m(\u001b[0m\u001b[1;34m']:['\u001b[0m\u001b[1;33m,\u001b[0m\u001b[1;34m','\u001b[0m\u001b[1;33m)\u001b[0m\u001b[1;33m.\u001b[0m\u001b[0mreplace\u001b[0m\u001b[1;33m(\u001b[0m\u001b[1;34m'[['\u001b[0m\u001b[1;33m,\u001b[0m\u001b[1;34m'{'\u001b[0m\u001b[1;33m)\u001b[0m\u001b[1;33m.\u001b[0m\u001b[0mreplace\u001b[0m\u001b[1;33m(\u001b[0m\u001b[1;34m']]'\u001b[0m\u001b[1;33m,\u001b[0m\u001b[1;34m'}'\u001b[0m\u001b[1;33m)\u001b[0m\u001b[1;33m\u001b[0m\u001b[0m\n\u001b[0m\u001b[0;32m      2\u001b[0m \u001b[1;33m\u001b[0m\u001b[0m\n\u001b[0;32m      3\u001b[0m \u001b[1;32mimport\u001b[0m \u001b[0mast\u001b[0m\u001b[1;33m\u001b[0m\u001b[0m\n\u001b[0;32m      4\u001b[0m \u001b[0mast\u001b[0m\u001b[1;33m.\u001b[0m\u001b[0mliteral_eval\u001b[0m\u001b[1;33m(\u001b[0m\u001b[0mtest\u001b[0m\u001b[1;33m)\u001b[0m\u001b[1;33m\u001b[0m\u001b[0m\n",
      "\u001b[1;32m~\\AppData\\Local\\Continuum\\anaconda3\\lib\\site-packages\\pandas\\core\\frame.py\u001b[0m in \u001b[0;36m__getitem__\u001b[1;34m(self, key)\u001b[0m\n\u001b[0;32m   1956\u001b[0m         \u001b[1;32mif\u001b[0m \u001b[0misinstance\u001b[0m\u001b[1;33m(\u001b[0m\u001b[0mkey\u001b[0m\u001b[1;33m,\u001b[0m \u001b[1;33m(\u001b[0m\u001b[0mSeries\u001b[0m\u001b[1;33m,\u001b[0m \u001b[0mnp\u001b[0m\u001b[1;33m.\u001b[0m\u001b[0mndarray\u001b[0m\u001b[1;33m,\u001b[0m \u001b[0mIndex\u001b[0m\u001b[1;33m,\u001b[0m \u001b[0mlist\u001b[0m\u001b[1;33m)\u001b[0m\u001b[1;33m)\u001b[0m\u001b[1;33m:\u001b[0m\u001b[1;33m\u001b[0m\u001b[0m\n\u001b[0;32m   1957\u001b[0m             \u001b[1;31m# either boolean or fancy integer index\u001b[0m\u001b[1;33m\u001b[0m\u001b[1;33m\u001b[0m\u001b[0m\n\u001b[1;32m-> 1958\u001b[1;33m             \u001b[1;32mreturn\u001b[0m \u001b[0mself\u001b[0m\u001b[1;33m.\u001b[0m\u001b[0m_getitem_array\u001b[0m\u001b[1;33m(\u001b[0m\u001b[0mkey\u001b[0m\u001b[1;33m)\u001b[0m\u001b[1;33m\u001b[0m\u001b[0m\n\u001b[0m\u001b[0;32m   1959\u001b[0m         \u001b[1;32melif\u001b[0m \u001b[0misinstance\u001b[0m\u001b[1;33m(\u001b[0m\u001b[0mkey\u001b[0m\u001b[1;33m,\u001b[0m \u001b[0mDataFrame\u001b[0m\u001b[1;33m)\u001b[0m\u001b[1;33m:\u001b[0m\u001b[1;33m\u001b[0m\u001b[0m\n\u001b[0;32m   1960\u001b[0m             \u001b[1;32mreturn\u001b[0m \u001b[0mself\u001b[0m\u001b[1;33m.\u001b[0m\u001b[0m_getitem_frame\u001b[0m\u001b[1;33m(\u001b[0m\u001b[0mkey\u001b[0m\u001b[1;33m)\u001b[0m\u001b[1;33m\u001b[0m\u001b[0m\n",
      "\u001b[1;32m~\\AppData\\Local\\Continuum\\anaconda3\\lib\\site-packages\\pandas\\core\\frame.py\u001b[0m in \u001b[0;36m_getitem_array\u001b[1;34m(self, key)\u001b[0m\n\u001b[0;32m   2000\u001b[0m             \u001b[1;32mreturn\u001b[0m \u001b[0mself\u001b[0m\u001b[1;33m.\u001b[0m\u001b[0mtake\u001b[0m\u001b[1;33m(\u001b[0m\u001b[0mindexer\u001b[0m\u001b[1;33m,\u001b[0m \u001b[0maxis\u001b[0m\u001b[1;33m=\u001b[0m\u001b[1;36m0\u001b[0m\u001b[1;33m,\u001b[0m \u001b[0mconvert\u001b[0m\u001b[1;33m=\u001b[0m\u001b[1;32mFalse\u001b[0m\u001b[1;33m)\u001b[0m\u001b[1;33m\u001b[0m\u001b[0m\n\u001b[0;32m   2001\u001b[0m         \u001b[1;32melse\u001b[0m\u001b[1;33m:\u001b[0m\u001b[1;33m\u001b[0m\u001b[0m\n\u001b[1;32m-> 2002\u001b[1;33m             \u001b[0mindexer\u001b[0m \u001b[1;33m=\u001b[0m \u001b[0mself\u001b[0m\u001b[1;33m.\u001b[0m\u001b[0mloc\u001b[0m\u001b[1;33m.\u001b[0m\u001b[0m_convert_to_indexer\u001b[0m\u001b[1;33m(\u001b[0m\u001b[0mkey\u001b[0m\u001b[1;33m,\u001b[0m \u001b[0maxis\u001b[0m\u001b[1;33m=\u001b[0m\u001b[1;36m1\u001b[0m\u001b[1;33m)\u001b[0m\u001b[1;33m\u001b[0m\u001b[0m\n\u001b[0m\u001b[0;32m   2003\u001b[0m             \u001b[1;32mreturn\u001b[0m \u001b[0mself\u001b[0m\u001b[1;33m.\u001b[0m\u001b[0mtake\u001b[0m\u001b[1;33m(\u001b[0m\u001b[0mindexer\u001b[0m\u001b[1;33m,\u001b[0m \u001b[0maxis\u001b[0m\u001b[1;33m=\u001b[0m\u001b[1;36m1\u001b[0m\u001b[1;33m,\u001b[0m \u001b[0mconvert\u001b[0m\u001b[1;33m=\u001b[0m\u001b[1;32mTrue\u001b[0m\u001b[1;33m)\u001b[0m\u001b[1;33m\u001b[0m\u001b[0m\n\u001b[0;32m   2004\u001b[0m \u001b[1;33m\u001b[0m\u001b[0m\n",
      "\u001b[1;32m~\\AppData\\Local\\Continuum\\anaconda3\\lib\\site-packages\\pandas\\core\\indexing.py\u001b[0m in \u001b[0;36m_convert_to_indexer\u001b[1;34m(self, obj, axis, is_setter)\u001b[0m\n\u001b[0;32m   1229\u001b[0m                 \u001b[0mmask\u001b[0m \u001b[1;33m=\u001b[0m \u001b[0mcheck\u001b[0m \u001b[1;33m==\u001b[0m \u001b[1;33m-\u001b[0m\u001b[1;36m1\u001b[0m\u001b[1;33m\u001b[0m\u001b[0m\n\u001b[0;32m   1230\u001b[0m                 \u001b[1;32mif\u001b[0m \u001b[0mmask\u001b[0m\u001b[1;33m.\u001b[0m\u001b[0many\u001b[0m\u001b[1;33m(\u001b[0m\u001b[1;33m)\u001b[0m\u001b[1;33m:\u001b[0m\u001b[1;33m\u001b[0m\u001b[0m\n\u001b[1;32m-> 1231\u001b[1;33m                     \u001b[1;32mraise\u001b[0m \u001b[0mKeyError\u001b[0m\u001b[1;33m(\u001b[0m\u001b[1;34m'%s not in index'\u001b[0m \u001b[1;33m%\u001b[0m \u001b[0mobjarr\u001b[0m\u001b[1;33m[\u001b[0m\u001b[0mmask\u001b[0m\u001b[1;33m]\u001b[0m\u001b[1;33m)\u001b[0m\u001b[1;33m\u001b[0m\u001b[0m\n\u001b[0m\u001b[0;32m   1232\u001b[0m \u001b[1;33m\u001b[0m\u001b[0m\n\u001b[0;32m   1233\u001b[0m                 \u001b[1;32mreturn\u001b[0m \u001b[0m_values_from_object\u001b[0m\u001b[1;33m(\u001b[0m\u001b[0mindexer\u001b[0m\u001b[1;33m)\u001b[0m\u001b[1;33m\u001b[0m\u001b[0m\n",
      "\u001b[1;31mKeyError\u001b[0m: \"['To Num.'] not in index\""
     ]
    }
   ],
   "source": [
    "test = dataset[(dataset['week'] == 20)][['daysofweek','To Num.']].to_json(orient='values').replace(',', ':').replace(']:[',',').replace('[[','{').replace(']]','}')\n",
    "\n",
    "import ast\n",
    "ast.literal_eval(test)"
   ]
  },
  {
   "cell_type": "code",
   "execution_count": null,
   "metadata": {},
   "outputs": [],
   "source": [
    "from luminol.anomaly_detector import AnomalyDetector\n",
    "from luminol.correlator import Correlator\n"
   ]
  },
  {
   "cell_type": "code",
   "execution_count": 43,
   "metadata": {
    "collapsed": true
   },
   "outputs": [
    {
     "name": "stdout",
     "output_type": "stream",
     "text": [
      "This is anomaly_score: 2.905418134146207\n",
      "ts2 correlate with ts1 at time period (2, 5)\n",
      "This is score:(0, 0.0)(1, 0.8731282501307988)(2, 1.5716308502354377)(3, 2.1363368633427995)(4, 1.70906949067424)(5, 2.905418134146207)(6, 1.1715411093483696)(7, 0.9372328874786957)(8, 0.7497863099829566)\n"
     ]
    }
   ],
   "source": [
    "from luminol.anomaly_detector import AnomalyDetector\n",
    "from luminol.correlator import Correlator\n",
    "\n",
    "ts1 = {0: 0, 1: 0.5, 2: 1, 3: 1, 4: 1, 5: 0, 6: 0, 7: 0, 8: 0}\n",
    "ts2 = {0: 0, 1: 0.5, 2: 1, 3: 1, 4: 1, 5: 0, 6: 1, 7: 1,8: 1}\n",
    "\n",
    "my_detector = AnomalyDetector(ts1, score_threshold=1.5)\n",
    "score = my_detector.get_all_scores()\n",
    "anomalies = my_detector.get_anomalies()\n",
    "for a in anomalies:\n",
    "    time_period = a.get_time_window()\n",
    "    print(\"This is anomaly_score: {}\".format(a.anomaly_score))\n",
    "    my_correlator = Correlator(ts1, ts2, time_period)\n",
    "    if my_correlator.is_correlated(threshold=0.8):\n",
    "        print(\"ts2 correlate with ts1 at time period (%d, %d)\" % time_period)\n",
    "        print(\"This is score:{}\" .format(score))"
   ]
  },
  {
   "cell_type": "code",
   "execution_count": 38,
   "metadata": {
    "collapsed": true
   },
   "outputs": [
    {
     "data": {
      "text/plain": [
       "\u001b[1;31mInit signature:\u001b[0m \u001b[0mAnomalyDetector\u001b[0m\u001b[1;33m(\u001b[0m\u001b[0mtime_series\u001b[0m\u001b[1;33m,\u001b[0m \u001b[0mbaseline_time_series\u001b[0m\u001b[1;33m=\u001b[0m\u001b[1;32mNone\u001b[0m\u001b[1;33m,\u001b[0m \u001b[0mscore_only\u001b[0m\u001b[1;33m=\u001b[0m\u001b[1;32mFalse\u001b[0m\u001b[1;33m,\u001b[0m \u001b[0mscore_threshold\u001b[0m\u001b[1;33m=\u001b[0m\u001b[1;32mNone\u001b[0m\u001b[1;33m,\u001b[0m \u001b[0mscore_percent_threshold\u001b[0m\u001b[1;33m=\u001b[0m\u001b[1;32mNone\u001b[0m\u001b[1;33m,\u001b[0m \u001b[0malgorithm_name\u001b[0m\u001b[1;33m=\u001b[0m\u001b[1;32mNone\u001b[0m\u001b[1;33m,\u001b[0m \u001b[0malgorithm_params\u001b[0m\u001b[1;33m=\u001b[0m\u001b[1;32mNone\u001b[0m\u001b[1;33m,\u001b[0m \u001b[0mrefine_algorithm_name\u001b[0m\u001b[1;33m=\u001b[0m\u001b[1;32mNone\u001b[0m\u001b[1;33m,\u001b[0m \u001b[0mrefine_algorithm_params\u001b[0m\u001b[1;33m=\u001b[0m\u001b[1;32mNone\u001b[0m\u001b[1;33m,\u001b[0m \u001b[0malgorithm_class\u001b[0m\u001b[1;33m=\u001b[0m\u001b[1;32mNone\u001b[0m\u001b[1;33m)\u001b[0m\u001b[1;33m\u001b[0m\u001b[0m\n",
       "\u001b[1;31mSource:\u001b[0m        \n",
       "\u001b[1;32mclass\u001b[0m \u001b[0mAnomalyDetector\u001b[0m\u001b[1;33m(\u001b[0m\u001b[0mobject\u001b[0m\u001b[1;33m)\u001b[0m\u001b[1;33m:\u001b[0m\u001b[1;33m\n",
       "\u001b[0m\u001b[1;33m\n",
       "\u001b[0m    \u001b[1;32mdef\u001b[0m \u001b[0m__init__\u001b[0m\u001b[1;33m(\u001b[0m\u001b[0mself\u001b[0m\u001b[1;33m,\u001b[0m \u001b[0mtime_series\u001b[0m\u001b[1;33m,\u001b[0m \u001b[0mbaseline_time_series\u001b[0m\u001b[1;33m=\u001b[0m\u001b[1;32mNone\u001b[0m\u001b[1;33m,\u001b[0m \u001b[0mscore_only\u001b[0m\u001b[1;33m=\u001b[0m\u001b[1;32mFalse\u001b[0m\u001b[1;33m,\u001b[0m \u001b[0mscore_threshold\u001b[0m\u001b[1;33m=\u001b[0m\u001b[1;32mNone\u001b[0m\u001b[1;33m,\u001b[0m\u001b[1;33m\n",
       "\u001b[0m                 \u001b[0mscore_percent_threshold\u001b[0m\u001b[1;33m=\u001b[0m\u001b[1;32mNone\u001b[0m\u001b[1;33m,\u001b[0m \u001b[0malgorithm_name\u001b[0m\u001b[1;33m=\u001b[0m\u001b[1;32mNone\u001b[0m\u001b[1;33m,\u001b[0m \u001b[0malgorithm_params\u001b[0m\u001b[1;33m=\u001b[0m\u001b[1;32mNone\u001b[0m\u001b[1;33m,\u001b[0m \u001b[0mrefine_algorithm_name\u001b[0m\u001b[1;33m=\u001b[0m\u001b[1;32mNone\u001b[0m\u001b[1;33m,\u001b[0m\u001b[1;33m\n",
       "\u001b[0m                 \u001b[0mrefine_algorithm_params\u001b[0m\u001b[1;33m=\u001b[0m\u001b[1;32mNone\u001b[0m\u001b[1;33m,\u001b[0m \u001b[0malgorithm_class\u001b[0m\u001b[1;33m=\u001b[0m\u001b[1;32mNone\u001b[0m\u001b[1;33m)\u001b[0m\u001b[1;33m:\u001b[0m\u001b[1;33m\n",
       "\u001b[0m        \u001b[1;34m\"\"\"\n",
       "        Initializer\n",
       "        :param time_series: a TimeSeries, a dictionary or a path to a csv file(str).\n",
       "        :param baseline_time_series: a TimeSeries, a dictionary or a path to a csv file(str).\n",
       "        :param bool score_only: if asserted, only anomaly scores are computed.\n",
       "        :param float score_percent_threshold: percent threshold on anomaly score above which is considered an anomaly.\n",
       "        :param str algorithm_name: name of the algorithm to use(file name).\n",
       "        :param dict algorithm_params: additional params for the specific algorithm.\n",
       "        :param str refine_algorithm_name: name of the refine algorithm to use(file name).\n",
       "        :param dict refine_algorithm_params: additional params for the specific refine algorithm.\n",
       "        :param AnomalyDetectorAlgorithm algorithm_class: A AnomalyDetectorAlgorithm class that when passed to luminol will\n",
       "            be used to assign anomaly scores. This is useful when luminol user wants to use a custom algorithm.\n",
       "        \"\"\"\u001b[0m\u001b[1;33m\n",
       "\u001b[0m\u001b[1;33m\n",
       "\u001b[0m        \u001b[0mself\u001b[0m\u001b[1;33m.\u001b[0m\u001b[0mtime_series\u001b[0m \u001b[1;33m=\u001b[0m \u001b[0mself\u001b[0m\u001b[1;33m.\u001b[0m\u001b[0m_load\u001b[0m\u001b[1;33m(\u001b[0m\u001b[0mtime_series\u001b[0m\u001b[1;33m)\u001b[0m\u001b[1;33m\n",
       "\u001b[0m        \u001b[0mself\u001b[0m\u001b[1;33m.\u001b[0m\u001b[0mbaseline_time_series\u001b[0m \u001b[1;33m=\u001b[0m \u001b[0mself\u001b[0m\u001b[1;33m.\u001b[0m\u001b[0m_load\u001b[0m\u001b[1;33m(\u001b[0m\u001b[0mbaseline_time_series\u001b[0m\u001b[1;33m)\u001b[0m\u001b[1;33m\n",
       "\u001b[0m        \u001b[0mself\u001b[0m\u001b[1;33m.\u001b[0m\u001b[0mscore_percent_threshold\u001b[0m \u001b[1;33m=\u001b[0m \u001b[0mscore_percent_threshold\u001b[0m \u001b[1;32mor\u001b[0m \u001b[0mDEFAULT_SCORE_PERCENT_THRESHOLD\u001b[0m\u001b[1;33m\n",
       "\u001b[0m\u001b[1;33m\n",
       "\u001b[0m        \u001b[1;31m# Prepare algorithms.\u001b[0m\u001b[1;33m\n",
       "\u001b[0m        \u001b[0malgorithm_name\u001b[0m \u001b[1;33m=\u001b[0m \u001b[0malgorithm_name\u001b[0m \u001b[1;32mor\u001b[0m \u001b[0mANOMALY_DETECTOR_ALGORITHM\u001b[0m\u001b[1;33m\n",
       "\u001b[0m        \u001b[0mself\u001b[0m\u001b[1;33m.\u001b[0m\u001b[0malgorithm\u001b[0m \u001b[1;33m=\u001b[0m \u001b[0malgorithm_class\u001b[0m \u001b[1;32mor\u001b[0m \u001b[0mself\u001b[0m\u001b[1;33m.\u001b[0m\u001b[0m_get_algorithm\u001b[0m\u001b[1;33m(\u001b[0m\u001b[0malgorithm_name\u001b[0m\u001b[1;33m)\u001b[0m\u001b[1;33m\n",
       "\u001b[0m        \u001b[0mself\u001b[0m\u001b[1;33m.\u001b[0m\u001b[0mthreshold\u001b[0m \u001b[1;33m=\u001b[0m \u001b[0mscore_threshold\u001b[0m \u001b[1;32mor\u001b[0m \u001b[0mANOMALY_THRESHOLD\u001b[0m\u001b[1;33m.\u001b[0m\u001b[0mget\u001b[0m\u001b[1;33m(\u001b[0m\u001b[0malgorithm_name\u001b[0m\u001b[1;33m)\u001b[0m\u001b[1;33m\n",
       "\u001b[0m        \u001b[0mself\u001b[0m\u001b[1;33m.\u001b[0m\u001b[0mrefine_algorithm\u001b[0m \u001b[1;33m=\u001b[0m \u001b[0mself\u001b[0m\u001b[1;33m.\u001b[0m\u001b[0m_get_algorithm\u001b[0m\u001b[1;33m(\u001b[0m\u001b[0mrefine_algorithm_name\u001b[0m \u001b[1;32mor\u001b[0m \u001b[0mANOMALY_DETECTOR_REFINE_ALGORITHM\u001b[0m\u001b[1;33m)\u001b[0m\u001b[1;33m\n",
       "\u001b[0m\u001b[1;33m\n",
       "\u001b[0m        \u001b[1;31m# Prepare parameters.\u001b[0m\u001b[1;33m\n",
       "\u001b[0m        \u001b[0mself\u001b[0m\u001b[1;33m.\u001b[0m\u001b[0malgorithm_params\u001b[0m \u001b[1;33m=\u001b[0m \u001b[1;33m{\u001b[0m\u001b[1;34m'time_series'\u001b[0m\u001b[1;33m:\u001b[0m \u001b[0mself\u001b[0m\u001b[1;33m.\u001b[0m\u001b[0mtime_series\u001b[0m\u001b[1;33m,\u001b[0m \u001b[1;34m'baseline_time_series'\u001b[0m\u001b[1;33m:\u001b[0m \u001b[0mself\u001b[0m\u001b[1;33m.\u001b[0m\u001b[0mbaseline_time_series\u001b[0m\u001b[1;33m}\u001b[0m\u001b[1;33m\n",
       "\u001b[0m        \u001b[0malgorithm_params\u001b[0m \u001b[1;33m=\u001b[0m \u001b[0malgorithm_params\u001b[0m \u001b[1;32mor\u001b[0m \u001b[1;33m{\u001b[0m\u001b[1;33m}\u001b[0m\u001b[1;33m\n",
       "\u001b[0m        \u001b[0mself\u001b[0m\u001b[1;33m.\u001b[0m\u001b[0malgorithm_params\u001b[0m\u001b[1;33m.\u001b[0m\u001b[0mupdate\u001b[0m\u001b[1;33m(\u001b[0m\u001b[0malgorithm_params\u001b[0m\u001b[1;33m)\u001b[0m\u001b[1;33m\n",
       "\u001b[0m        \u001b[0mself\u001b[0m\u001b[1;33m.\u001b[0m\u001b[0mrefine_algorithm_params\u001b[0m \u001b[1;33m=\u001b[0m \u001b[0mrefine_algorithm_params\u001b[0m \u001b[1;32mor\u001b[0m \u001b[1;33m{\u001b[0m\u001b[1;33m}\u001b[0m\u001b[1;33m\n",
       "\u001b[0m\u001b[1;33m\n",
       "\u001b[0m        \u001b[1;31m# Detect anomalies.\u001b[0m\u001b[1;33m\n",
       "\u001b[0m        \u001b[0mself\u001b[0m\u001b[1;33m.\u001b[0m\u001b[0m_detect\u001b[0m\u001b[1;33m(\u001b[0m\u001b[0mscore_only\u001b[0m\u001b[1;33m)\u001b[0m\u001b[1;33m\n",
       "\u001b[0m\u001b[1;33m\n",
       "\u001b[0m    \u001b[1;32mdef\u001b[0m \u001b[0m_load\u001b[0m\u001b[1;33m(\u001b[0m\u001b[0mself\u001b[0m\u001b[1;33m,\u001b[0m \u001b[0mtime_series\u001b[0m\u001b[1;33m)\u001b[0m\u001b[1;33m:\u001b[0m\u001b[1;33m\n",
       "\u001b[0m        \u001b[1;34m\"\"\"\n",
       "        Load time series.\n",
       "        :param time_series: a TimeSeries, a dictionary or a path to a csv file(str).\n",
       "        :return TimeSeries: a TimeSeries object.\n",
       "        \"\"\"\u001b[0m\u001b[1;33m\n",
       "\u001b[0m        \u001b[1;32mif\u001b[0m \u001b[1;32mnot\u001b[0m \u001b[0mtime_series\u001b[0m\u001b[1;33m:\u001b[0m\u001b[1;33m\n",
       "\u001b[0m            \u001b[1;32mreturn\u001b[0m \u001b[1;32mNone\u001b[0m\u001b[1;33m\n",
       "\u001b[0m        \u001b[1;32mif\u001b[0m \u001b[0misinstance\u001b[0m\u001b[1;33m(\u001b[0m\u001b[0mtime_series\u001b[0m\u001b[1;33m,\u001b[0m \u001b[0mTimeSeries\u001b[0m\u001b[1;33m)\u001b[0m\u001b[1;33m:\u001b[0m\u001b[1;33m\n",
       "\u001b[0m            \u001b[1;32mreturn\u001b[0m \u001b[0mtime_series\u001b[0m\u001b[1;33m\n",
       "\u001b[0m        \u001b[1;32mif\u001b[0m \u001b[0misinstance\u001b[0m\u001b[1;33m(\u001b[0m\u001b[0mtime_series\u001b[0m\u001b[1;33m,\u001b[0m \u001b[0mdict\u001b[0m\u001b[1;33m)\u001b[0m\u001b[1;33m:\u001b[0m\u001b[1;33m\n",
       "\u001b[0m            \u001b[1;32mreturn\u001b[0m \u001b[0mTimeSeries\u001b[0m\u001b[1;33m(\u001b[0m\u001b[0mtime_series\u001b[0m\u001b[1;33m)\u001b[0m\u001b[1;33m\n",
       "\u001b[0m        \u001b[1;32mreturn\u001b[0m \u001b[0mTimeSeries\u001b[0m\u001b[1;33m(\u001b[0m\u001b[0mutils\u001b[0m\u001b[1;33m.\u001b[0m\u001b[0mread_csv\u001b[0m\u001b[1;33m(\u001b[0m\u001b[0mtime_series\u001b[0m\u001b[1;33m)\u001b[0m\u001b[1;33m)\u001b[0m\u001b[1;33m\n",
       "\u001b[0m\u001b[1;33m\n",
       "\u001b[0m    \u001b[1;32mdef\u001b[0m \u001b[0m_get_algorithm\u001b[0m\u001b[1;33m(\u001b[0m\u001b[0mself\u001b[0m\u001b[1;33m,\u001b[0m \u001b[0malgorithm_name\u001b[0m\u001b[1;33m)\u001b[0m\u001b[1;33m:\u001b[0m\u001b[1;33m\n",
       "\u001b[0m        \u001b[1;34m\"\"\"\n",
       "        Get the specific algorithm.\n",
       "        :param str algorithm_name: name of the algorithm to use(file name).\n",
       "        :return: algorithm object.\n",
       "        \"\"\"\u001b[0m\u001b[1;33m\n",
       "\u001b[0m        \u001b[1;32mtry\u001b[0m\u001b[1;33m:\u001b[0m\u001b[1;33m\n",
       "\u001b[0m            \u001b[0malgorithm\u001b[0m \u001b[1;33m=\u001b[0m \u001b[0manomaly_detector_algorithms\u001b[0m\u001b[1;33m[\u001b[0m\u001b[0malgorithm_name\u001b[0m\u001b[1;33m]\u001b[0m\u001b[1;33m\n",
       "\u001b[0m            \u001b[1;32mreturn\u001b[0m \u001b[0malgorithm\u001b[0m\u001b[1;33m\n",
       "\u001b[0m        \u001b[1;32mexcept\u001b[0m \u001b[0mKeyError\u001b[0m\u001b[1;33m:\u001b[0m\u001b[1;33m\n",
       "\u001b[0m            \u001b[1;32mraise\u001b[0m \u001b[0mexceptions\u001b[0m\u001b[1;33m.\u001b[0m\u001b[0mAlgorithmNotFound\u001b[0m\u001b[1;33m(\u001b[0m\u001b[1;34m'luminol.AnomalyDetector: '\u001b[0m \u001b[1;33m+\u001b[0m \u001b[0mstr\u001b[0m\u001b[1;33m(\u001b[0m\u001b[0malgorithm_name\u001b[0m\u001b[1;33m)\u001b[0m \u001b[1;33m+\u001b[0m \u001b[1;34m' not found.'\u001b[0m\u001b[1;33m)\u001b[0m\u001b[1;33m\n",
       "\u001b[0m\u001b[1;33m\n",
       "\u001b[0m    \u001b[1;32mdef\u001b[0m \u001b[0m_detect\u001b[0m\u001b[1;33m(\u001b[0m\u001b[0mself\u001b[0m\u001b[1;33m,\u001b[0m \u001b[0mscore_only\u001b[0m\u001b[1;33m)\u001b[0m\u001b[1;33m:\u001b[0m\u001b[1;33m\n",
       "\u001b[0m        \u001b[1;34m\"\"\"\n",
       "        Detect anomaly periods.\n",
       "        :param bool score_only: if true, only anomaly scores are computed.\n",
       "        \"\"\"\u001b[0m\u001b[1;33m\n",
       "\u001b[0m        \u001b[1;32mtry\u001b[0m\u001b[1;33m:\u001b[0m\u001b[1;33m\n",
       "\u001b[0m            \u001b[0malgorithm\u001b[0m \u001b[1;33m=\u001b[0m \u001b[0mself\u001b[0m\u001b[1;33m.\u001b[0m\u001b[0malgorithm\u001b[0m\u001b[1;33m(\u001b[0m\u001b[1;33m**\u001b[0m\u001b[0mself\u001b[0m\u001b[1;33m.\u001b[0m\u001b[0malgorithm_params\u001b[0m\u001b[1;33m)\u001b[0m\u001b[1;33m\n",
       "\u001b[0m            \u001b[0mself\u001b[0m\u001b[1;33m.\u001b[0m\u001b[0manom_scores\u001b[0m \u001b[1;33m=\u001b[0m \u001b[0malgorithm\u001b[0m\u001b[1;33m.\u001b[0m\u001b[0mrun\u001b[0m\u001b[1;33m(\u001b[0m\u001b[1;33m)\u001b[0m\u001b[1;33m\n",
       "\u001b[0m        \u001b[1;32mexcept\u001b[0m \u001b[0mexceptions\u001b[0m\u001b[1;33m.\u001b[0m\u001b[0mNotEnoughDataPoints\u001b[0m\u001b[1;33m:\u001b[0m\u001b[1;33m\n",
       "\u001b[0m            \u001b[0malgorithm\u001b[0m \u001b[1;33m=\u001b[0m \u001b[0manomaly_detector_algorithms\u001b[0m\u001b[1;33m[\u001b[0m\u001b[1;34m'default_detector'\u001b[0m\u001b[1;33m]\u001b[0m\u001b[1;33m(\u001b[0m\u001b[0mself\u001b[0m\u001b[1;33m.\u001b[0m\u001b[0mtime_series\u001b[0m\u001b[1;33m)\u001b[0m\u001b[1;33m\n",
       "\u001b[0m            \u001b[0mself\u001b[0m\u001b[1;33m.\u001b[0m\u001b[0mthreshold\u001b[0m \u001b[1;33m=\u001b[0m \u001b[0mself\u001b[0m\u001b[1;33m.\u001b[0m\u001b[0mthreshold\u001b[0m \u001b[1;32mor\u001b[0m \u001b[0mANOMALY_THRESHOLD\u001b[0m\u001b[1;33m[\u001b[0m\u001b[1;34m'default_detector'\u001b[0m\u001b[1;33m]\u001b[0m\u001b[1;33m\n",
       "\u001b[0m            \u001b[0mself\u001b[0m\u001b[1;33m.\u001b[0m\u001b[0manom_scores\u001b[0m \u001b[1;33m=\u001b[0m \u001b[0malgorithm\u001b[0m\u001b[1;33m.\u001b[0m\u001b[0mrun\u001b[0m\u001b[1;33m(\u001b[0m\u001b[1;33m)\u001b[0m\u001b[1;33m\n",
       "\u001b[0m        \u001b[1;32mif\u001b[0m \u001b[1;32mnot\u001b[0m \u001b[0mscore_only\u001b[0m\u001b[1;33m:\u001b[0m\u001b[1;33m\n",
       "\u001b[0m            \u001b[0mself\u001b[0m\u001b[1;33m.\u001b[0m\u001b[0m_detect_anomalies\u001b[0m\u001b[1;33m(\u001b[0m\u001b[1;33m)\u001b[0m\u001b[1;33m\n",
       "\u001b[0m\u001b[1;33m\n",
       "\u001b[0m    \u001b[1;32mdef\u001b[0m \u001b[0m_detect_anomalies\u001b[0m\u001b[1;33m(\u001b[0m\u001b[0mself\u001b[0m\u001b[1;33m)\u001b[0m\u001b[1;33m:\u001b[0m\u001b[1;33m\n",
       "\u001b[0m        \u001b[1;34m\"\"\"\n",
       "        Detect anomalies using a threshold on anomaly scores.\n",
       "        \"\"\"\u001b[0m\u001b[1;33m\n",
       "\u001b[0m        \u001b[0manom_scores\u001b[0m \u001b[1;33m=\u001b[0m \u001b[0mself\u001b[0m\u001b[1;33m.\u001b[0m\u001b[0manom_scores\u001b[0m\u001b[1;33m\n",
       "\u001b[0m        \u001b[0mmax_anom_score\u001b[0m \u001b[1;33m=\u001b[0m \u001b[0manom_scores\u001b[0m\u001b[1;33m.\u001b[0m\u001b[0mmax\u001b[0m\u001b[1;33m(\u001b[0m\u001b[1;33m)\u001b[0m\u001b[1;33m\n",
       "\u001b[0m        \u001b[0manomalies\u001b[0m \u001b[1;33m=\u001b[0m \u001b[1;33m[\u001b[0m\u001b[1;33m]\u001b[0m\u001b[1;33m\n",
       "\u001b[0m\u001b[1;33m\n",
       "\u001b[0m        \u001b[1;32mif\u001b[0m \u001b[0mmax_anom_score\u001b[0m\u001b[1;33m:\u001b[0m\u001b[1;33m\n",
       "\u001b[0m            \u001b[0mthreshold\u001b[0m \u001b[1;33m=\u001b[0m \u001b[0mself\u001b[0m\u001b[1;33m.\u001b[0m\u001b[0mthreshold\u001b[0m \u001b[1;32mor\u001b[0m \u001b[0mmax_anom_score\u001b[0m \u001b[1;33m*\u001b[0m \u001b[0mself\u001b[0m\u001b[1;33m.\u001b[0m\u001b[0mscore_percent_threshold\u001b[0m\u001b[1;33m\n",
       "\u001b[0m            \u001b[1;31m# Find all the anomaly intervals.\u001b[0m\u001b[1;33m\n",
       "\u001b[0m            \u001b[0mintervals\u001b[0m \u001b[1;33m=\u001b[0m \u001b[1;33m[\u001b[0m\u001b[1;33m]\u001b[0m\u001b[1;33m\n",
       "\u001b[0m            \u001b[0mstart\u001b[0m\u001b[1;33m,\u001b[0m \u001b[0mend\u001b[0m \u001b[1;33m=\u001b[0m \u001b[1;32mNone\u001b[0m\u001b[1;33m,\u001b[0m \u001b[1;32mNone\u001b[0m\u001b[1;33m\n",
       "\u001b[0m            \u001b[1;32mfor\u001b[0m \u001b[0mtimestamp\u001b[0m\u001b[1;33m,\u001b[0m \u001b[0mvalue\u001b[0m \u001b[1;32min\u001b[0m \u001b[0manom_scores\u001b[0m\u001b[1;33m.\u001b[0m\u001b[0miteritems\u001b[0m\u001b[1;33m(\u001b[0m\u001b[1;33m)\u001b[0m\u001b[1;33m:\u001b[0m\u001b[1;33m\n",
       "\u001b[0m                \u001b[1;32mif\u001b[0m \u001b[0mvalue\u001b[0m \u001b[1;33m>\u001b[0m \u001b[0mthreshold\u001b[0m\u001b[1;33m:\u001b[0m\u001b[1;33m\n",
       "\u001b[0m                    \u001b[0mend\u001b[0m \u001b[1;33m=\u001b[0m \u001b[0mtimestamp\u001b[0m\u001b[1;33m\n",
       "\u001b[0m                    \u001b[1;32mif\u001b[0m \u001b[1;32mnot\u001b[0m \u001b[0mstart\u001b[0m\u001b[1;33m:\u001b[0m\u001b[1;33m\n",
       "\u001b[0m                        \u001b[0mstart\u001b[0m \u001b[1;33m=\u001b[0m \u001b[0mtimestamp\u001b[0m\u001b[1;33m\n",
       "\u001b[0m                \u001b[1;32melif\u001b[0m \u001b[0mstart\u001b[0m \u001b[1;32mand\u001b[0m \u001b[0mend\u001b[0m \u001b[1;32mis\u001b[0m \u001b[1;32mnot\u001b[0m \u001b[1;32mNone\u001b[0m\u001b[1;33m:\u001b[0m\u001b[1;33m\n",
       "\u001b[0m                    \u001b[0mintervals\u001b[0m\u001b[1;33m.\u001b[0m\u001b[0mappend\u001b[0m\u001b[1;33m(\u001b[0m\u001b[1;33m[\u001b[0m\u001b[0mstart\u001b[0m\u001b[1;33m,\u001b[0m \u001b[0mend\u001b[0m\u001b[1;33m]\u001b[0m\u001b[1;33m)\u001b[0m\u001b[1;33m\n",
       "\u001b[0m                    \u001b[0mstart\u001b[0m \u001b[1;33m=\u001b[0m \u001b[1;32mNone\u001b[0m\u001b[1;33m\n",
       "\u001b[0m                    \u001b[0mend\u001b[0m \u001b[1;33m=\u001b[0m \u001b[1;32mNone\u001b[0m\u001b[1;33m\n",
       "\u001b[0m            \u001b[1;32mif\u001b[0m \u001b[0mstart\u001b[0m \u001b[1;32mis\u001b[0m \u001b[1;32mnot\u001b[0m \u001b[1;32mNone\u001b[0m\u001b[1;33m:\u001b[0m\u001b[1;33m\n",
       "\u001b[0m                \u001b[0mintervals\u001b[0m\u001b[1;33m.\u001b[0m\u001b[0mappend\u001b[0m\u001b[1;33m(\u001b[0m\u001b[1;33m[\u001b[0m\u001b[0mstart\u001b[0m\u001b[1;33m,\u001b[0m \u001b[0mend\u001b[0m\u001b[1;33m]\u001b[0m\u001b[1;33m)\u001b[0m\u001b[1;33m\n",
       "\u001b[0m\u001b[1;33m\n",
       "\u001b[0m            \u001b[1;31m# Locate the exact anomaly point within each anomaly interval.\u001b[0m\u001b[1;33m\n",
       "\u001b[0m            \u001b[1;32mfor\u001b[0m \u001b[0minterval_start\u001b[0m\u001b[1;33m,\u001b[0m \u001b[0minterval_end\u001b[0m \u001b[1;32min\u001b[0m \u001b[0mintervals\u001b[0m\u001b[1;33m:\u001b[0m\u001b[1;33m\n",
       "\u001b[0m                \u001b[0minterval_series\u001b[0m \u001b[1;33m=\u001b[0m \u001b[0manom_scores\u001b[0m\u001b[1;33m.\u001b[0m\u001b[0mcrop\u001b[0m\u001b[1;33m(\u001b[0m\u001b[0minterval_start\u001b[0m\u001b[1;33m,\u001b[0m \u001b[0minterval_end\u001b[0m\u001b[1;33m)\u001b[0m\u001b[1;33m\n",
       "\u001b[0m\u001b[1;33m\n",
       "\u001b[0m                \u001b[0mself\u001b[0m\u001b[1;33m.\u001b[0m\u001b[0mrefine_algorithm_params\u001b[0m\u001b[1;33m[\u001b[0m\u001b[1;34m'time_series'\u001b[0m\u001b[1;33m]\u001b[0m \u001b[1;33m=\u001b[0m \u001b[0minterval_series\u001b[0m\u001b[1;33m\n",
       "\u001b[0m                \u001b[0mrefine_algorithm\u001b[0m \u001b[1;33m=\u001b[0m \u001b[0mself\u001b[0m\u001b[1;33m.\u001b[0m\u001b[0mrefine_algorithm\u001b[0m\u001b[1;33m(\u001b[0m\u001b[1;33m**\u001b[0m\u001b[0mself\u001b[0m\u001b[1;33m.\u001b[0m\u001b[0mrefine_algorithm_params\u001b[0m\u001b[1;33m)\u001b[0m\u001b[1;33m\n",
       "\u001b[0m                \u001b[0mscores\u001b[0m \u001b[1;33m=\u001b[0m \u001b[0mrefine_algorithm\u001b[0m\u001b[1;33m.\u001b[0m\u001b[0mrun\u001b[0m\u001b[1;33m(\u001b[0m\u001b[1;33m)\u001b[0m\u001b[1;33m\n",
       "\u001b[0m                \u001b[0mmax_refine_score\u001b[0m \u001b[1;33m=\u001b[0m \u001b[0mscores\u001b[0m\u001b[1;33m.\u001b[0m\u001b[0mmax\u001b[0m\u001b[1;33m(\u001b[0m\u001b[1;33m)\u001b[0m\u001b[1;33m\n",
       "\u001b[0m\u001b[1;33m\n",
       "\u001b[0m                \u001b[1;31m# Get the timestamp of the maximal score.\u001b[0m\u001b[1;33m\n",
       "\u001b[0m                \u001b[0mmax_refine_timestamp\u001b[0m \u001b[1;33m=\u001b[0m \u001b[0mscores\u001b[0m\u001b[1;33m.\u001b[0m\u001b[0mtimestamps\u001b[0m\u001b[1;33m[\u001b[0m\u001b[0mscores\u001b[0m\u001b[1;33m.\u001b[0m\u001b[0mvalues\u001b[0m\u001b[1;33m.\u001b[0m\u001b[0mindex\u001b[0m\u001b[1;33m(\u001b[0m\u001b[0mmax_refine_score\u001b[0m\u001b[1;33m)\u001b[0m\u001b[1;33m]\u001b[0m\u001b[1;33m\n",
       "\u001b[0m                \u001b[0manomaly\u001b[0m \u001b[1;33m=\u001b[0m \u001b[0mAnomaly\u001b[0m\u001b[1;33m(\u001b[0m\u001b[0minterval_start\u001b[0m\u001b[1;33m,\u001b[0m \u001b[0minterval_end\u001b[0m\u001b[1;33m,\u001b[0m \u001b[0minterval_series\u001b[0m\u001b[1;33m.\u001b[0m\u001b[0mmax\u001b[0m\u001b[1;33m(\u001b[0m\u001b[1;33m)\u001b[0m\u001b[1;33m,\u001b[0m \u001b[0mmax_refine_timestamp\u001b[0m\u001b[1;33m)\u001b[0m\u001b[1;33m\n",
       "\u001b[0m                \u001b[0manomalies\u001b[0m\u001b[1;33m.\u001b[0m\u001b[0mappend\u001b[0m\u001b[1;33m(\u001b[0m\u001b[0manomaly\u001b[0m\u001b[1;33m)\u001b[0m\u001b[1;33m\n",
       "\u001b[0m\u001b[1;33m\n",
       "\u001b[0m        \u001b[0mself\u001b[0m\u001b[1;33m.\u001b[0m\u001b[0manomalies\u001b[0m \u001b[1;33m=\u001b[0m \u001b[0manomalies\u001b[0m\u001b[1;33m\n",
       "\u001b[0m\u001b[1;33m\n",
       "\u001b[0m    \u001b[1;32mdef\u001b[0m \u001b[0mget_anomalies\u001b[0m\u001b[1;33m(\u001b[0m\u001b[0mself\u001b[0m\u001b[1;33m)\u001b[0m\u001b[1;33m:\u001b[0m\u001b[1;33m\n",
       "\u001b[0m        \u001b[1;34m\"\"\"\n",
       "        Get anomalies.\n",
       "        :return list: a list of Anomaly objects.\n",
       "        \"\"\"\u001b[0m\u001b[1;33m\n",
       "\u001b[0m        \u001b[1;32mreturn\u001b[0m \u001b[0mgetattr\u001b[0m\u001b[1;33m(\u001b[0m\u001b[0mself\u001b[0m\u001b[1;33m,\u001b[0m \u001b[1;34m'anomalies'\u001b[0m\u001b[1;33m,\u001b[0m \u001b[1;33m[\u001b[0m\u001b[1;33m]\u001b[0m\u001b[1;33m)\u001b[0m\u001b[1;33m\n",
       "\u001b[0m\u001b[1;33m\n",
       "\u001b[0m    \u001b[1;32mdef\u001b[0m \u001b[0mget_all_scores\u001b[0m\u001b[1;33m(\u001b[0m\u001b[0mself\u001b[0m\u001b[1;33m)\u001b[0m\u001b[1;33m:\u001b[0m\u001b[1;33m\n",
       "\u001b[0m        \u001b[1;34m\"\"\"\n",
       "        Get anomaly scores.\n",
       "        :return: a TimeSeries object represents anomaly scores.\n",
       "        \"\"\"\u001b[0m\u001b[1;33m\n",
       "\u001b[0m        \u001b[1;32mreturn\u001b[0m \u001b[0mgetattr\u001b[0m\u001b[1;33m(\u001b[0m\u001b[0mself\u001b[0m\u001b[1;33m,\u001b[0m \u001b[1;34m'anom_scores'\u001b[0m\u001b[1;33m,\u001b[0m \u001b[1;32mNone\u001b[0m\u001b[1;33m)\u001b[0m\u001b[1;33m\u001b[0m\u001b[0m\n",
       "\u001b[1;31mFile:\u001b[0m           c:\\users\\a1825\\appdata\\local\\continuum\\anaconda3\\envs\\tensorflow\\lib\\site-packages\\luminol\\anomaly_detector.py\n",
       "\u001b[1;31mType:\u001b[0m           type\n"
      ]
     },
     "metadata": {},
     "output_type": "display_data"
    }
   ],
   "source": [
    "??AnomalyDetector"
   ]
  },
  {
   "cell_type": "code",
   "execution_count": 18,
   "metadata": {},
   "outputs": [],
   "source": [
    "df_new3 = df_new[(df_new['Date'] >= '2013-05-13') & (df_new['Date'] < '2013-06-01')]"
   ]
  },
  {
   "cell_type": "code",
   "execution_count": 20,
   "metadata": {},
   "outputs": [],
   "source": [
    "df_new['y'] = df_new['To Num.']"
   ]
  },
  {
   "cell_type": "code",
   "execution_count": 21,
   "metadata": {},
   "outputs": [],
   "source": [
    "df_new['DS'] = df_new['Date']"
   ]
  },
  {
   "cell_type": "code",
   "execution_count": 22,
   "metadata": {
    "scrolled": true
   },
   "outputs": [
    {
     "data": {
      "text/html": [
       "<div>\n",
       "<style>\n",
       "    .dataframe thead tr:only-child th {\n",
       "        text-align: right;\n",
       "    }\n",
       "\n",
       "    .dataframe thead th {\n",
       "        text-align: left;\n",
       "    }\n",
       "\n",
       "    .dataframe tbody tr th {\n",
       "        vertical-align: top;\n",
       "    }\n",
       "</style>\n",
       "<table border=\"1\" class=\"dataframe\">\n",
       "  <thead>\n",
       "    <tr style=\"text-align: right;\">\n",
       "      <th></th>\n",
       "      <th>Date</th>\n",
       "      <th>Account Name</th>\n",
       "      <th>Description</th>\n",
       "      <th>Category</th>\n",
       "      <th>To With Sym</th>\n",
       "      <th>To Num.</th>\n",
       "      <th>daysofweek</th>\n",
       "      <th>days</th>\n",
       "      <th>week</th>\n",
       "      <th>y</th>\n",
       "      <th>DS</th>\n",
       "    </tr>\n",
       "  </thead>\n",
       "  <tbody>\n",
       "    <tr>\n",
       "      <th>0</th>\n",
       "      <td>2013-05-17</td>\n",
       "      <td>Fuel</td>\n",
       "      <td>Petronas</td>\n",
       "      <td>Credit Card</td>\n",
       "      <td>RM30.00</td>\n",
       "      <td>30.00</td>\n",
       "      <td>4</td>\n",
       "      <td>Friday</td>\n",
       "      <td>20</td>\n",
       "      <td>30.00</td>\n",
       "      <td>2013-05-17</td>\n",
       "    </tr>\n",
       "    <tr>\n",
       "      <th>1</th>\n",
       "      <td>2013-05-21</td>\n",
       "      <td>Fuel</td>\n",
       "      <td>Petronas</td>\n",
       "      <td>Credit Card</td>\n",
       "      <td>RM91.64</td>\n",
       "      <td>91.64</td>\n",
       "      <td>1</td>\n",
       "      <td>Tuesday</td>\n",
       "      <td>21</td>\n",
       "      <td>91.64</td>\n",
       "      <td>2013-05-21</td>\n",
       "    </tr>\n",
       "    <tr>\n",
       "      <th>2</th>\n",
       "      <td>2013-05-28</td>\n",
       "      <td>Fuel</td>\n",
       "      <td>Shell</td>\n",
       "      <td>Credit Card</td>\n",
       "      <td>RM87.61</td>\n",
       "      <td>87.61</td>\n",
       "      <td>1</td>\n",
       "      <td>Tuesday</td>\n",
       "      <td>22</td>\n",
       "      <td>87.61</td>\n",
       "      <td>2013-05-28</td>\n",
       "    </tr>\n",
       "    <tr>\n",
       "      <th>3</th>\n",
       "      <td>2013-12-05</td>\n",
       "      <td>Toll</td>\n",
       "      <td>Toll</td>\n",
       "      <td>Cash in Wallet</td>\n",
       "      <td>RM2.30</td>\n",
       "      <td>2.30</td>\n",
       "      <td>3</td>\n",
       "      <td>Thursday</td>\n",
       "      <td>49</td>\n",
       "      <td>2.30</td>\n",
       "      <td>2013-12-05</td>\n",
       "    </tr>\n",
       "    <tr>\n",
       "      <th>4</th>\n",
       "      <td>2013-05-18</td>\n",
       "      <td>Toll</td>\n",
       "      <td>Toll</td>\n",
       "      <td>Cash in Wallet</td>\n",
       "      <td>RM9.60</td>\n",
       "      <td>9.60</td>\n",
       "      <td>5</td>\n",
       "      <td>Saturday</td>\n",
       "      <td>20</td>\n",
       "      <td>9.60</td>\n",
       "      <td>2013-05-18</td>\n",
       "    </tr>\n",
       "  </tbody>\n",
       "</table>\n",
       "</div>"
      ],
      "text/plain": [
       "        Date Account Name Description        Category To With Sym  To Num.  \\\n",
       "0 2013-05-17         Fuel    Petronas     Credit Card     RM30.00    30.00   \n",
       "1 2013-05-21         Fuel    Petronas     Credit Card     RM91.64    91.64   \n",
       "2 2013-05-28         Fuel       Shell     Credit Card     RM87.61    87.61   \n",
       "3 2013-12-05         Toll        Toll  Cash in Wallet      RM2.30     2.30   \n",
       "4 2013-05-18         Toll        Toll  Cash in Wallet      RM9.60     9.60   \n",
       "\n",
       "   daysofweek      days  week      y         DS  \n",
       "0           4    Friday    20  30.00 2013-05-17  \n",
       "1           1   Tuesday    21  91.64 2013-05-21  \n",
       "2           1   Tuesday    22  87.61 2013-05-28  \n",
       "3           3  Thursday    49   2.30 2013-12-05  \n",
       "4           5  Saturday    20   9.60 2013-05-18  "
      ]
     },
     "execution_count": 22,
     "metadata": {},
     "output_type": "execute_result"
    }
   ],
   "source": [
    "df_new.head()"
   ]
  },
  {
   "cell_type": "code",
   "execution_count": 23,
   "metadata": {},
   "outputs": [],
   "source": [
    "df_new2 = df_new[['DS','y']]"
   ]
  },
  {
   "cell_type": "code",
   "execution_count": 24,
   "metadata": {},
   "outputs": [
    {
     "name": "stdout",
     "output_type": "stream",
     "text": [
      "<class 'pandas.core.frame.DataFrame'>\n",
      "RangeIndex: 71 entries, 0 to 70\n",
      "Data columns (total 2 columns):\n",
      "DS    71 non-null datetime64[ns]\n",
      "y     71 non-null float64\n",
      "dtypes: datetime64[ns](1), float64(1)\n",
      "memory usage: 1.2 KB\n"
     ]
    }
   ],
   "source": [
    "df_new2.head()\n",
    "df_new2.info()"
   ]
  },
  {
   "cell_type": "code",
   "execution_count": 25,
   "metadata": {},
   "outputs": [],
   "source": [
    "from fbprophet import Prophet\n",
    "m = Prophet()"
   ]
  },
  {
   "cell_type": "code",
   "execution_count": 30,
   "metadata": {},
   "outputs": [
    {
     "data": {
      "text/html": [
       "<div>\n",
       "<style>\n",
       "    .dataframe thead tr:only-child th {\n",
       "        text-align: right;\n",
       "    }\n",
       "\n",
       "    .dataframe thead th {\n",
       "        text-align: left;\n",
       "    }\n",
       "\n",
       "    .dataframe tbody tr th {\n",
       "        vertical-align: top;\n",
       "    }\n",
       "</style>\n",
       "<table border=\"1\" class=\"dataframe\">\n",
       "  <thead>\n",
       "    <tr style=\"text-align: right;\">\n",
       "      <th></th>\n",
       "      <th>ds</th>\n",
       "      <th>y</th>\n",
       "    </tr>\n",
       "  </thead>\n",
       "  <tbody>\n",
       "    <tr>\n",
       "      <th>0</th>\n",
       "      <td>2013-05-17</td>\n",
       "      <td>30.00</td>\n",
       "    </tr>\n",
       "    <tr>\n",
       "      <th>1</th>\n",
       "      <td>2013-05-21</td>\n",
       "      <td>91.64</td>\n",
       "    </tr>\n",
       "    <tr>\n",
       "      <th>2</th>\n",
       "      <td>2013-05-28</td>\n",
       "      <td>87.61</td>\n",
       "    </tr>\n",
       "    <tr>\n",
       "      <th>3</th>\n",
       "      <td>2013-12-05</td>\n",
       "      <td>2.30</td>\n",
       "    </tr>\n",
       "    <tr>\n",
       "      <th>4</th>\n",
       "      <td>2013-05-18</td>\n",
       "      <td>9.60</td>\n",
       "    </tr>\n",
       "  </tbody>\n",
       "</table>\n",
       "</div>"
      ],
      "text/plain": [
       "          ds      y\n",
       "0 2013-05-17  30.00\n",
       "1 2013-05-21  91.64\n",
       "2 2013-05-28  87.61\n",
       "3 2013-12-05   2.30\n",
       "4 2013-05-18   9.60"
      ]
     },
     "execution_count": 30,
     "metadata": {},
     "output_type": "execute_result"
    }
   ],
   "source": [
    "df_new2.head()"
   ]
  },
  {
   "cell_type": "code",
   "execution_count": 31,
   "metadata": {},
   "outputs": [
    {
     "name": "stderr",
     "output_type": "stream",
     "text": [
      "INFO:fbprophet.forecaster:Disabling yearly seasonality. Run prophet with yearly_seasonality=True to override this.\n",
      "INFO:fbprophet.forecaster:Disabling daily seasonality. Run prophet with daily_seasonality=True to override this.\n"
     ]
    },
    {
     "data": {
      "text/plain": [
       "<fbprophet.forecaster.Prophet at 0x268059820f0>"
      ]
     },
     "execution_count": 31,
     "metadata": {},
     "output_type": "execute_result"
    }
   ],
   "source": [
    "m.fit(df_new2)"
   ]
  },
  {
   "cell_type": "code",
   "execution_count": 34,
   "metadata": {},
   "outputs": [],
   "source": [
    "predict = m.predict(df_new2)"
   ]
  },
  {
   "cell_type": "code",
   "execution_count": 36,
   "metadata": {},
   "outputs": [
    {
     "data": {
      "image/png": "[encoded data removed]",
      "text/plain": [
       "<matplotlib.figure.Figure at 0x26806426fd0>"
      ]
     },
     "execution_count": 36,
     "metadata": {},
     "output_type": "execute_result"
    },
    {
     "data": {
      "image/png": "[encoded data removed]",
      "text/plain": [
       "<matplotlib.figure.Figure at 0x26806426fd0>"
      ]
     },
     "metadata": {},
     "output_type": "display_data"
    }
   ],
   "source": [
    "m.plot_components(predict)"
   ]
  },
  {
   "cell_type": "code",
   "execution_count": 35,
   "metadata": {},
   "outputs": [
    {
     "data": {
      "image/png": "[encoded data removed]",
      "text/plain": [
       "<matplotlib.figure.Figure at 0x26806cc39b0>"
      ]
     },
     "execution_count": 35,
     "metadata": {},
     "output_type": "execute_result"
    },
    {
     "data": {
      "image/png": "[encoded data removed]",
      "text/plain": [
       "<matplotlib.figure.Figure at 0x26806cc39b0>"
      ]
     },
     "metadata": {},
     "output_type": "display_data"
    }
   ],
   "source": [
    "m.plot(predict)"
   ]
  },
  {
   "cell_type": "code",
   "execution_count": 29,
   "metadata": {},
   "outputs": [],
   "source": [
    "df_new2.columns = ['ds','y']"
   ]
  },
  {
   "cell_type": "code",
   "execution_count": 65,
   "metadata": {},
   "outputs": [],
   "source": [
    "test3 = test2.reset_index()"
   ]
  },
  {
   "cell_type": "code",
   "execution_count": 84,
   "metadata": {},
   "outputs": [],
   "source": [
    "test3.loc[(test3['ds'] == '2013-05-21'), 'y'] = None\n",
    "test3.loc[(test3['ds'] == '2013-05-28'), 'y'] = None"
   ]
  },
  {
   "cell_type": "code",
   "execution_count": 70,
   "metadata": {},
   "outputs": [],
   "source": [
    "test3.columns = ['ds','y']"
   ]
  },
  {
   "cell_type": "code",
   "execution_count": 88,
   "metadata": {},
   "outputs": [
    {
     "name": "stderr",
     "output_type": "stream",
     "text": [
      "INFO:fbprophet.forecaster:Disabling yearly seasonality. Run prophet with yearly_seasonality=True to override this.\n",
      "INFO:fbprophet.forecaster:Disabling daily seasonality. Run prophet with daily_seasonality=True to override this.\n",
      "INFO:fbprophet.forecaster:n_changepoints greater than number of observations.Using 11.0.\n"
     ]
    }
   ],
   "source": [
    "m.fit(test3);"
   ]
  },
  {
   "cell_type": "code",
   "execution_count": 89,
   "metadata": {},
   "outputs": [
    {
     "data": {
      "text/html": [
       "<div>\n",
       "<style>\n",
       "    .dataframe thead tr:only-child th {\n",
       "        text-align: right;\n",
       "    }\n",
       "\n",
       "    .dataframe thead th {\n",
       "        text-align: left;\n",
       "    }\n",
       "\n",
       "    .dataframe tbody tr th {\n",
       "        vertical-align: top;\n",
       "    }\n",
       "</style>\n",
       "<table border=\"1\" class=\"dataframe\">\n",
       "  <thead>\n",
       "    <tr style=\"text-align: right;\">\n",
       "      <th></th>\n",
       "      <th>ds</th>\n",
       "    </tr>\n",
       "  </thead>\n",
       "  <tbody>\n",
       "    <tr>\n",
       "      <th>43</th>\n",
       "      <td>2013-06-26</td>\n",
       "    </tr>\n",
       "    <tr>\n",
       "      <th>44</th>\n",
       "      <td>2013-06-27</td>\n",
       "    </tr>\n",
       "    <tr>\n",
       "      <th>45</th>\n",
       "      <td>2013-06-28</td>\n",
       "    </tr>\n",
       "    <tr>\n",
       "      <th>46</th>\n",
       "      <td>2013-06-29</td>\n",
       "    </tr>\n",
       "    <tr>\n",
       "      <th>47</th>\n",
       "      <td>2013-06-30</td>\n",
       "    </tr>\n",
       "  </tbody>\n",
       "</table>\n",
       "</div>"
      ],
      "text/plain": [
       "           ds\n",
       "43 2013-06-26\n",
       "44 2013-06-27\n",
       "45 2013-06-28\n",
       "46 2013-06-29\n",
       "47 2013-06-30"
      ]
     },
     "execution_count": 89,
     "metadata": {},
     "output_type": "execute_result"
    }
   ],
   "source": [
    "future = m.make_future_dataframe(periods=30)\n",
    "future.tail()"
   ]
  },
  {
   "cell_type": "code",
   "execution_count": 90,
   "metadata": {},
   "outputs": [
    {
     "data": {
      "text/html": [
       "<div>\n",
       "<style>\n",
       "    .dataframe thead tr:only-child th {\n",
       "        text-align: right;\n",
       "    }\n",
       "\n",
       "    .dataframe thead th {\n",
       "        text-align: left;\n",
       "    }\n",
       "\n",
       "    .dataframe tbody tr th {\n",
       "        vertical-align: top;\n",
       "    }\n",
       "</style>\n",
       "<table border=\"1\" class=\"dataframe\">\n",
       "  <thead>\n",
       "    <tr style=\"text-align: right;\">\n",
       "      <th></th>\n",
       "      <th>ds</th>\n",
       "      <th>yhat</th>\n",
       "      <th>yhat_lower</th>\n",
       "      <th>yhat_upper</th>\n",
       "    </tr>\n",
       "  </thead>\n",
       "  <tbody>\n",
       "    <tr>\n",
       "      <th>43</th>\n",
       "      <td>2013-06-26</td>\n",
       "      <td>30.662532</td>\n",
       "      <td>-42.372064</td>\n",
       "      <td>104.157978</td>\n",
       "    </tr>\n",
       "    <tr>\n",
       "      <th>44</th>\n",
       "      <td>2013-06-27</td>\n",
       "      <td>38.349423</td>\n",
       "      <td>-32.447431</td>\n",
       "      <td>111.523306</td>\n",
       "    </tr>\n",
       "    <tr>\n",
       "      <th>45</th>\n",
       "      <td>2013-06-28</td>\n",
       "      <td>58.633008</td>\n",
       "      <td>-9.873690</td>\n",
       "      <td>128.190103</td>\n",
       "    </tr>\n",
       "    <tr>\n",
       "      <th>46</th>\n",
       "      <td>2013-06-29</td>\n",
       "      <td>74.257455</td>\n",
       "      <td>-0.105415</td>\n",
       "      <td>140.894960</td>\n",
       "    </tr>\n",
       "    <tr>\n",
       "      <th>47</th>\n",
       "      <td>2013-06-30</td>\n",
       "      <td>93.100113</td>\n",
       "      <td>22.316538</td>\n",
       "      <td>166.431509</td>\n",
       "    </tr>\n",
       "  </tbody>\n",
       "</table>\n",
       "</div>"
      ],
      "text/plain": [
       "           ds       yhat  yhat_lower  yhat_upper\n",
       "43 2013-06-26  30.662532  -42.372064  104.157978\n",
       "44 2013-06-27  38.349423  -32.447431  111.523306\n",
       "45 2013-06-28  58.633008   -9.873690  128.190103\n",
       "46 2013-06-29  74.257455   -0.105415  140.894960\n",
       "47 2013-06-30  93.100113   22.316538  166.431509"
      ]
     },
     "execution_count": 90,
     "metadata": {},
     "output_type": "execute_result"
    }
   ],
   "source": [
    "forecast = m.predict(future)\n",
    "forecast[['ds', 'yhat', 'yhat_lower', 'yhat_upper']].tail()"
   ]
  },
  {
   "cell_type": "code",
   "execution_count": 91,
   "metadata": {},
   "outputs": [
    {
     "data": {
      "image/png": "[encoded data removed]",
      "text/plain": [
       "<matplotlib.figure.Figure at 0x23126170518>"
      ]
     },
     "metadata": {},
     "output_type": "display_data"
    }
   ],
   "source": [
    "%matplotlib inline\n",
    "m.plot(forecast);"
   ]
  },
  {
   "cell_type": "code",
   "execution_count": 92,
   "metadata": {},
   "outputs": [
    {
     "data": {
      "image/png": "[encoded data removed]",
      "text/plain": [
       "<matplotlib.figure.Figure at 0x23125d837f0>"
      ]
     },
     "execution_count": 92,
     "metadata": {},
     "output_type": "execute_result"
    },
    {
     "data": {
      "image/png": "[encoded data removed]",
      "text/plain": [
       "<matplotlib.figure.Figure at 0x23125d837f0>"
      ]
     },
     "metadata": {},
     "output_type": "display_data"
    }
   ],
   "source": [
    "m.plot_components(forecast)"
   ]
  },
  {
   "cell_type": "code",
   "execution_count": 38,
   "metadata": {},
   "outputs": [],
   "source": [
    "df = df_new\n",
    "\n",
    "df_trx = df[['DS','y']]\n",
    "df_trx.columns = ['ds','y']"
   ]
  },
  {
   "cell_type": "code",
   "execution_count": 43,
   "metadata": {},
   "outputs": [
    {
     "data": {
      "text/html": [
       "<div>\n",
       "<style>\n",
       "    .dataframe thead tr:only-child th {\n",
       "        text-align: right;\n",
       "    }\n",
       "\n",
       "    .dataframe thead th {\n",
       "        text-align: left;\n",
       "    }\n",
       "\n",
       "    .dataframe tbody tr th {\n",
       "        vertical-align: top;\n",
       "    }\n",
       "</style>\n",
       "<table border=\"1\" class=\"dataframe\">\n",
       "  <thead>\n",
       "    <tr style=\"text-align: right;\">\n",
       "      <th></th>\n",
       "      <th>Date</th>\n",
       "      <th>Account Name</th>\n",
       "      <th>Description</th>\n",
       "      <th>Category</th>\n",
       "      <th>To With Sym</th>\n",
       "      <th>To Num.</th>\n",
       "      <th>daysofweek</th>\n",
       "      <th>days</th>\n",
       "      <th>week</th>\n",
       "      <th>y</th>\n",
       "      <th>DS</th>\n",
       "    </tr>\n",
       "  </thead>\n",
       "  <tbody>\n",
       "    <tr>\n",
       "      <th>0</th>\n",
       "      <td>2013-05-17</td>\n",
       "      <td>Fuel</td>\n",
       "      <td>Petronas</td>\n",
       "      <td>Credit Card</td>\n",
       "      <td>RM30.00</td>\n",
       "      <td>30.00</td>\n",
       "      <td>4</td>\n",
       "      <td>Friday</td>\n",
       "      <td>20</td>\n",
       "      <td>30.00</td>\n",
       "      <td>2013-05-17</td>\n",
       "    </tr>\n",
       "    <tr>\n",
       "      <th>1</th>\n",
       "      <td>2013-05-21</td>\n",
       "      <td>Fuel</td>\n",
       "      <td>Petronas</td>\n",
       "      <td>Credit Card</td>\n",
       "      <td>RM91.64</td>\n",
       "      <td>91.64</td>\n",
       "      <td>1</td>\n",
       "      <td>Tuesday</td>\n",
       "      <td>21</td>\n",
       "      <td>91.64</td>\n",
       "      <td>2013-05-21</td>\n",
       "    </tr>\n",
       "    <tr>\n",
       "      <th>2</th>\n",
       "      <td>2013-05-28</td>\n",
       "      <td>Fuel</td>\n",
       "      <td>Shell</td>\n",
       "      <td>Credit Card</td>\n",
       "      <td>RM87.61</td>\n",
       "      <td>87.61</td>\n",
       "      <td>1</td>\n",
       "      <td>Tuesday</td>\n",
       "      <td>22</td>\n",
       "      <td>87.61</td>\n",
       "      <td>2013-05-28</td>\n",
       "    </tr>\n",
       "    <tr>\n",
       "      <th>3</th>\n",
       "      <td>2013-12-05</td>\n",
       "      <td>Toll</td>\n",
       "      <td>Toll</td>\n",
       "      <td>Cash in Wallet</td>\n",
       "      <td>RM2.30</td>\n",
       "      <td>2.30</td>\n",
       "      <td>3</td>\n",
       "      <td>Thursday</td>\n",
       "      <td>49</td>\n",
       "      <td>2.30</td>\n",
       "      <td>2013-12-05</td>\n",
       "    </tr>\n",
       "    <tr>\n",
       "      <th>4</th>\n",
       "      <td>2013-05-18</td>\n",
       "      <td>Toll</td>\n",
       "      <td>Toll</td>\n",
       "      <td>Cash in Wallet</td>\n",
       "      <td>RM9.60</td>\n",
       "      <td>9.60</td>\n",
       "      <td>5</td>\n",
       "      <td>Saturday</td>\n",
       "      <td>20</td>\n",
       "      <td>9.60</td>\n",
       "      <td>2013-05-18</td>\n",
       "    </tr>\n",
       "  </tbody>\n",
       "</table>\n",
       "</div>"
      ],
      "text/plain": [
       "        Date Account Name Description        Category To With Sym  To Num.  \\\n",
       "0 2013-05-17         Fuel    Petronas     Credit Card     RM30.00    30.00   \n",
       "1 2013-05-21         Fuel    Petronas     Credit Card     RM91.64    91.64   \n",
       "2 2013-05-28         Fuel       Shell     Credit Card     RM87.61    87.61   \n",
       "3 2013-12-05         Toll        Toll  Cash in Wallet      RM2.30     2.30   \n",
       "4 2013-05-18         Toll        Toll  Cash in Wallet      RM9.60     9.60   \n",
       "\n",
       "   daysofweek      days  week      y         DS  \n",
       "0           4    Friday    20  30.00 2013-05-17  \n",
       "1           1   Tuesday    21  91.64 2013-05-21  \n",
       "2           1   Tuesday    22  87.61 2013-05-28  \n",
       "3           3  Thursday    49   2.30 2013-12-05  \n",
       "4           5  Saturday    20   9.60 2013-05-18  "
      ]
     },
     "execution_count": 43,
     "metadata": {},
     "output_type": "execute_result"
    }
   ],
   "source": [
    "df.head()"
   ]
  },
  {
   "cell_type": "code",
   "execution_count": 52,
   "metadata": {},
   "outputs": [
    {
     "data": {
      "text/plain": [
       "20    20\n",
       "21    16\n",
       "22    13\n",
       "49     4\n",
       "1      4\n",
       "40     3\n",
       "27     2\n",
       "36     1\n",
       "32     1\n",
       "23     1\n",
       "19     1\n",
       "18     1\n",
       "17     1\n",
       "14     1\n",
       "10     1\n",
       "6      1\n",
       "Name: week, dtype: int64"
      ]
     },
     "execution_count": 52,
     "metadata": {},
     "output_type": "execute_result"
    }
   ],
   "source": [
    "df['week'].value_counts()"
   ]
  },
  {
   "cell_type": "code",
   "execution_count": 95,
   "metadata": {},
   "outputs": [
    {
     "data": {
      "text/html": [
       "<div>\n",
       "<style>\n",
       "    .dataframe thead tr:only-child th {\n",
       "        text-align: right;\n",
       "    }\n",
       "\n",
       "    .dataframe thead th {\n",
       "        text-align: left;\n",
       "    }\n",
       "\n",
       "    .dataframe tbody tr th {\n",
       "        vertical-align: top;\n",
       "    }\n",
       "</style>\n",
       "<table border=\"1\" class=\"dataframe\">\n",
       "  <thead>\n",
       "    <tr style=\"text-align: right;\">\n",
       "      <th></th>\n",
       "      <th>week</th>\n",
       "      <th>daysofweek</th>\n",
       "      <th>DS</th>\n",
       "      <th>To Num.</th>\n",
       "    </tr>\n",
       "  </thead>\n",
       "  <tbody>\n",
       "    <tr>\n",
       "      <th>14</th>\n",
       "      <td>21</td>\n",
       "      <td>0</td>\n",
       "      <td>2013-05-20</td>\n",
       "      <td>214.41</td>\n",
       "    </tr>\n",
       "    <tr>\n",
       "      <th>15</th>\n",
       "      <td>21</td>\n",
       "      <td>1</td>\n",
       "      <td>2013-05-21</td>\n",
       "      <td>1445.64</td>\n",
       "    </tr>\n",
       "    <tr>\n",
       "      <th>16</th>\n",
       "      <td>21</td>\n",
       "      <td>3</td>\n",
       "      <td>2013-05-23</td>\n",
       "      <td>16.80</td>\n",
       "    </tr>\n",
       "    <tr>\n",
       "      <th>17</th>\n",
       "      <td>21</td>\n",
       "      <td>4</td>\n",
       "      <td>2013-05-24</td>\n",
       "      <td>62.20</td>\n",
       "    </tr>\n",
       "    <tr>\n",
       "      <th>18</th>\n",
       "      <td>21</td>\n",
       "      <td>5</td>\n",
       "      <td>2013-05-25</td>\n",
       "      <td>65.20</td>\n",
       "    </tr>\n",
       "    <tr>\n",
       "      <th>19</th>\n",
       "      <td>21</td>\n",
       "      <td>6</td>\n",
       "      <td>2013-05-26</td>\n",
       "      <td>10.00</td>\n",
       "    </tr>\n",
       "  </tbody>\n",
       "</table>\n",
       "</div>"
      ],
      "text/plain": [
       "    week  daysofweek         DS  To Num.\n",
       "14    21           0 2013-05-20   214.41\n",
       "15    21           1 2013-05-21  1445.64\n",
       "16    21           3 2013-05-23    16.80\n",
       "17    21           4 2013-05-24    62.20\n",
       "18    21           5 2013-05-25    65.20\n",
       "19    21           6 2013-05-26    10.00"
      ]
     },
     "execution_count": 95,
     "metadata": {},
     "output_type": "execute_result"
    }
   ],
   "source": [
    "df_group = df.groupby(['week','daysofweek','DS'],as_index=False)[['To Num.']].sum()\n",
    "df_group[df_group['week']==21]"
   ]
  },
  {
   "cell_type": "markdown",
   "metadata": {},
   "source": [
    "### start new analysis"
   ]
  },
  {
   "cell_type": "code",
   "execution_count": 2,
   "metadata": {},
   "outputs": [],
   "source": [
    "import pandas as pd\n",
    "import numpy as np\n",
    "from datetime import datetime\n",
    "import matplotlib.pyplot as plt\n",
    "import seaborn"
   ]
  },
  {
   "cell_type": "code",
   "execution_count": 3,
   "metadata": {},
   "outputs": [],
   "source": [
    "%matplotlib inline"
   ]
  },
  {
   "cell_type": "code",
   "execution_count": 5,
   "metadata": {},
   "outputs": [
    {
     "data": {
      "text/html": [
       "<div>\n",
       "<style>\n",
       "    .dataframe thead tr:only-child th {\n",
       "        text-align: right;\n",
       "    }\n",
       "\n",
       "    .dataframe thead th {\n",
       "        text-align: left;\n",
       "    }\n",
       "\n",
       "    .dataframe tbody tr th {\n",
       "        vertical-align: top;\n",
       "    }\n",
       "</style>\n",
       "<table border=\"1\" class=\"dataframe\">\n",
       "  <thead>\n",
       "    <tr style=\"text-align: right;\">\n",
       "      <th></th>\n",
       "      <th>date</th>\n",
       "      <th>acc_name</th>\n",
       "      <th>description</th>\n",
       "      <th>category</th>\n",
       "      <th>amount_rm</th>\n",
       "      <th>amount</th>\n",
       "    </tr>\n",
       "  </thead>\n",
       "  <tbody>\n",
       "    <tr>\n",
       "      <th>0</th>\n",
       "      <td>2013-05-17</td>\n",
       "      <td>Fuel</td>\n",
       "      <td>Petronas</td>\n",
       "      <td>Credit Card</td>\n",
       "      <td>RM30.00</td>\n",
       "      <td>30.00</td>\n",
       "    </tr>\n",
       "    <tr>\n",
       "      <th>1</th>\n",
       "      <td>2013-05-21</td>\n",
       "      <td>Fuel</td>\n",
       "      <td>Petronas</td>\n",
       "      <td>Credit Card</td>\n",
       "      <td>RM91.64</td>\n",
       "      <td>91.64</td>\n",
       "    </tr>\n",
       "    <tr>\n",
       "      <th>2</th>\n",
       "      <td>2013-05-28</td>\n",
       "      <td>Fuel</td>\n",
       "      <td>Shell</td>\n",
       "      <td>Credit Card</td>\n",
       "      <td>RM87.61</td>\n",
       "      <td>87.61</td>\n",
       "    </tr>\n",
       "    <tr>\n",
       "      <th>3</th>\n",
       "      <td>2013-12-05</td>\n",
       "      <td>Toll</td>\n",
       "      <td>Toll</td>\n",
       "      <td>Cash in Wallet</td>\n",
       "      <td>RM2.30</td>\n",
       "      <td>2.30</td>\n",
       "    </tr>\n",
       "    <tr>\n",
       "      <th>4</th>\n",
       "      <td>2013-05-18</td>\n",
       "      <td>Toll</td>\n",
       "      <td>Toll</td>\n",
       "      <td>Cash in Wallet</td>\n",
       "      <td>RM9.60</td>\n",
       "      <td>9.60</td>\n",
       "    </tr>\n",
       "  </tbody>\n",
       "</table>\n",
       "</div>"
      ],
      "text/plain": [
       "        date acc_name description        category amount_rm  amount\n",
       "0 2013-05-17     Fuel    Petronas     Credit Card   RM30.00   30.00\n",
       "1 2013-05-21     Fuel    Petronas     Credit Card   RM91.64   91.64\n",
       "2 2013-05-28     Fuel       Shell     Credit Card   RM87.61   87.61\n",
       "3 2013-12-05     Toll        Toll  Cash in Wallet    RM2.30    2.30\n",
       "4 2013-05-18     Toll        Toll  Cash in Wallet    RM9.60    9.60"
      ]
     },
     "execution_count": 5,
     "metadata": {},
     "output_type": "execute_result"
    }
   ],
   "source": [
    "df = pd.read_csv('myTrx.csv', thousands=',', parse_dates=['Date'])\n",
    "df.columns = ['date','acc_name','description','category','amount_rm','amount']\n",
    "df.head()"
   ]
  },
  {
   "cell_type": "code",
   "execution_count": 8,
   "metadata": {},
   "outputs": [],
   "source": [
    "df['daysofweek'] = df['date'].dt.weekday\n",
    "df['days'] = df['date'].dt.weekday_name\n",
    "df['week'] = df['date'].dt.week"
   ]
  },
  {
   "cell_type": "code",
   "execution_count": 11,
   "metadata": {},
   "outputs": [
    {
     "data": {
      "text/html": [
       "<div>\n",
       "<style>\n",
       "    .dataframe thead tr:only-child th {\n",
       "        text-align: right;\n",
       "    }\n",
       "\n",
       "    .dataframe thead th {\n",
       "        text-align: left;\n",
       "    }\n",
       "\n",
       "    .dataframe tbody tr th {\n",
       "        vertical-align: top;\n",
       "    }\n",
       "</style>\n",
       "<table border=\"1\" class=\"dataframe\">\n",
       "  <thead>\n",
       "    <tr style=\"text-align: right;\">\n",
       "      <th></th>\n",
       "      <th>week</th>\n",
       "      <th>daysofweek</th>\n",
       "      <th>date</th>\n",
       "      <th>amount</th>\n",
       "    </tr>\n",
       "  </thead>\n",
       "  <tbody>\n",
       "    <tr>\n",
       "      <th>14</th>\n",
       "      <td>21</td>\n",
       "      <td>0</td>\n",
       "      <td>2013-05-20</td>\n",
       "      <td>214.41</td>\n",
       "    </tr>\n",
       "    <tr>\n",
       "      <th>15</th>\n",
       "      <td>21</td>\n",
       "      <td>1</td>\n",
       "      <td>2013-05-21</td>\n",
       "      <td>1445.64</td>\n",
       "    </tr>\n",
       "    <tr>\n",
       "      <th>16</th>\n",
       "      <td>21</td>\n",
       "      <td>3</td>\n",
       "      <td>2013-05-23</td>\n",
       "      <td>16.80</td>\n",
       "    </tr>\n",
       "    <tr>\n",
       "      <th>17</th>\n",
       "      <td>21</td>\n",
       "      <td>4</td>\n",
       "      <td>2013-05-24</td>\n",
       "      <td>62.20</td>\n",
       "    </tr>\n",
       "    <tr>\n",
       "      <th>18</th>\n",
       "      <td>21</td>\n",
       "      <td>5</td>\n",
       "      <td>2013-05-25</td>\n",
       "      <td>65.20</td>\n",
       "    </tr>\n",
       "    <tr>\n",
       "      <th>19</th>\n",
       "      <td>21</td>\n",
       "      <td>6</td>\n",
       "      <td>2013-05-26</td>\n",
       "      <td>10.00</td>\n",
       "    </tr>\n",
       "  </tbody>\n",
       "</table>\n",
       "</div>"
      ],
      "text/plain": [
       "    week  daysofweek       date   amount\n",
       "14    21           0 2013-05-20   214.41\n",
       "15    21           1 2013-05-21  1445.64\n",
       "16    21           3 2013-05-23    16.80\n",
       "17    21           4 2013-05-24    62.20\n",
       "18    21           5 2013-05-25    65.20\n",
       "19    21           6 2013-05-26    10.00"
      ]
     },
     "execution_count": 11,
     "metadata": {},
     "output_type": "execute_result"
    }
   ],
   "source": [
    "df_group = df.groupby(['week','daysofweek','date'],as_index=False)[['amount']].sum()\n",
    "df_group[df_group['week']==21]"
   ]
  },
  {
   "cell_type": "code",
   "execution_count": 13,
   "metadata": {},
   "outputs": [],
   "source": [
    "df_trx = df_group[['date','amount']][(df_group['week']>=20) & (df_group['week']<=21)]\n",
    "df_trx.columns = ['ds','y']"
   ]
  },
  {
   "cell_type": "code",
   "execution_count": 14,
   "metadata": {},
   "outputs": [
    {
     "name": "stderr",
     "output_type": "stream",
     "text": [
      "INFO:fbprophet.forecaster:Disabling yearly seasonality. Run prophet with yearly_seasonality=True to override this.\n",
      "INFO:fbprophet.forecaster:Disabling daily seasonality. Run prophet with daily_seasonality=True to override this.\n",
      "INFO:fbprophet.forecaster:n_changepoints greater than number of observations.Using 9.0.\n"
     ]
    },
    {
     "data": {
      "text/plain": [
       "<fbprophet.forecaster.Prophet at 0x1fa565d0550>"
      ]
     },
     "execution_count": 14,
     "metadata": {},
     "output_type": "execute_result"
    }
   ],
   "source": [
    "from fbprophet import Prophet\n",
    "m = Prophet(weekly_seasonality=True)\n",
    "\n",
    "m.fit(df_trx)"
   ]
  },
  {
   "cell_type": "code",
   "execution_count": 108,
   "metadata": {
    "scrolled": true
   },
   "outputs": [
    {
     "data": {
      "text/html": [
       "<div>\n",
       "<style>\n",
       "    .dataframe thead tr:only-child th {\n",
       "        text-align: right;\n",
       "    }\n",
       "\n",
       "    .dataframe thead th {\n",
       "        text-align: left;\n",
       "    }\n",
       "\n",
       "    .dataframe tbody tr th {\n",
       "        vertical-align: top;\n",
       "    }\n",
       "</style>\n",
       "<table border=\"1\" class=\"dataframe\">\n",
       "  <thead>\n",
       "    <tr style=\"text-align: right;\">\n",
       "      <th></th>\n",
       "      <th>ds</th>\n",
       "      <th>y</th>\n",
       "      <th>norm_y</th>\n",
       "      <th>sd_y</th>\n",
       "    </tr>\n",
       "  </thead>\n",
       "  <tbody>\n",
       "    <tr>\n",
       "      <th>7</th>\n",
       "      <td>2013-05-13</td>\n",
       "      <td>9.94</td>\n",
       "      <td>0.001835</td>\n",
       "      <td>-0.438990</td>\n",
       "    </tr>\n",
       "    <tr>\n",
       "      <th>8</th>\n",
       "      <td>2013-05-14</td>\n",
       "      <td>83.77</td>\n",
       "      <td>0.053165</td>\n",
       "      <td>-0.240699</td>\n",
       "    </tr>\n",
       "    <tr>\n",
       "      <th>9</th>\n",
       "      <td>2013-05-15</td>\n",
       "      <td>7.30</td>\n",
       "      <td>0.000000</td>\n",
       "      <td>-0.446080</td>\n",
       "    </tr>\n",
       "    <tr>\n",
       "      <th>10</th>\n",
       "      <td>2013-05-16</td>\n",
       "      <td>26.80</td>\n",
       "      <td>0.013557</td>\n",
       "      <td>-0.393707</td>\n",
       "    </tr>\n",
       "    <tr>\n",
       "      <th>11</th>\n",
       "      <td>2013-05-17</td>\n",
       "      <td>62.91</td>\n",
       "      <td>0.038663</td>\n",
       "      <td>-0.296724</td>\n",
       "    </tr>\n",
       "  </tbody>\n",
       "</table>\n",
       "</div>"
      ],
      "text/plain": [
       "           ds      y    norm_y      sd_y\n",
       "7  2013-05-13   9.94  0.001835 -0.438990\n",
       "8  2013-05-14  83.77  0.053165 -0.240699\n",
       "9  2013-05-15   7.30  0.000000 -0.446080\n",
       "10 2013-05-16  26.80  0.013557 -0.393707\n",
       "11 2013-05-17  62.91  0.038663 -0.296724"
      ]
     },
     "execution_count": 108,
     "metadata": {},
     "output_type": "execute_result"
    }
   ],
   "source": [
    "df_trx.head()"
   ]
  },
  {
   "cell_type": "code",
   "execution_count": 34,
   "metadata": {},
   "outputs": [
    {
     "data": {
      "text/html": [
       "<div>\n",
       "<style>\n",
       "    .dataframe thead tr:only-child th {\n",
       "        text-align: right;\n",
       "    }\n",
       "\n",
       "    .dataframe thead th {\n",
       "        text-align: left;\n",
       "    }\n",
       "\n",
       "    .dataframe tbody tr th {\n",
       "        vertical-align: top;\n",
       "    }\n",
       "</style>\n",
       "<table border=\"1\" class=\"dataframe\">\n",
       "  <thead>\n",
       "    <tr style=\"text-align: right;\">\n",
       "      <th></th>\n",
       "      <th>ds</th>\n",
       "      <th>yhat</th>\n",
       "    </tr>\n",
       "  </thead>\n",
       "  <tbody>\n",
       "    <tr>\n",
       "      <th>0</th>\n",
       "      <td>2013-05-13</td>\n",
       "      <td>99.789295</td>\n",
       "    </tr>\n",
       "    <tr>\n",
       "      <th>1</th>\n",
       "      <td>2013-05-14</td>\n",
       "      <td>705.821312</td>\n",
       "    </tr>\n",
       "    <tr>\n",
       "      <th>2</th>\n",
       "      <td>2013-05-15</td>\n",
       "      <td>53.305173</td>\n",
       "    </tr>\n",
       "    <tr>\n",
       "      <th>3</th>\n",
       "      <td>2013-05-16</td>\n",
       "      <td>18.109421</td>\n",
       "    </tr>\n",
       "    <tr>\n",
       "      <th>4</th>\n",
       "      <td>2013-05-17</td>\n",
       "      <td>55.605352</td>\n",
       "    </tr>\n",
       "  </tbody>\n",
       "</table>\n",
       "</div>"
      ],
      "text/plain": [
       "          ds        yhat\n",
       "0 2013-05-13   99.789295\n",
       "1 2013-05-14  705.821312\n",
       "2 2013-05-15   53.305173\n",
       "3 2013-05-16   18.109421\n",
       "4 2013-05-17   55.605352"
      ]
     },
     "execution_count": 34,
     "metadata": {},
     "output_type": "execute_result"
    }
   ],
   "source": [
    "forecast[['ds','yhat']].head()"
   ]
  },
  {
   "cell_type": "code",
   "execution_count": 18,
   "metadata": {},
   "outputs": [
    {
     "data": {
      "text/html": [
       "<div>\n",
       "<style>\n",
       "    .dataframe thead tr:only-child th {\n",
       "        text-align: right;\n",
       "    }\n",
       "\n",
       "    .dataframe thead th {\n",
       "        text-align: left;\n",
       "    }\n",
       "\n",
       "    .dataframe tbody tr th {\n",
       "        vertical-align: top;\n",
       "    }\n",
       "</style>\n",
       "<table border=\"1\" class=\"dataframe\">\n",
       "  <thead>\n",
       "    <tr style=\"text-align: right;\">\n",
       "      <th></th>\n",
       "      <th>ds</th>\n",
       "      <th>floor</th>\n",
       "    </tr>\n",
       "  </thead>\n",
       "  <tbody>\n",
       "    <tr>\n",
       "      <th>22</th>\n",
       "      <td>2013-06-05</td>\n",
       "      <td>0</td>\n",
       "    </tr>\n",
       "    <tr>\n",
       "      <th>23</th>\n",
       "      <td>2013-06-06</td>\n",
       "      <td>0</td>\n",
       "    </tr>\n",
       "    <tr>\n",
       "      <th>24</th>\n",
       "      <td>2013-06-07</td>\n",
       "      <td>0</td>\n",
       "    </tr>\n",
       "    <tr>\n",
       "      <th>25</th>\n",
       "      <td>2013-06-08</td>\n",
       "      <td>0</td>\n",
       "    </tr>\n",
       "    <tr>\n",
       "      <th>26</th>\n",
       "      <td>2013-06-09</td>\n",
       "      <td>0</td>\n",
       "    </tr>\n",
       "  </tbody>\n",
       "</table>\n",
       "</div>"
      ],
      "text/plain": [
       "           ds  floor\n",
       "22 2013-06-05      0\n",
       "23 2013-06-06      0\n",
       "24 2013-06-07      0\n",
       "25 2013-06-08      0\n",
       "26 2013-06-09      0"
      ]
     },
     "execution_count": 18,
     "metadata": {},
     "output_type": "execute_result"
    }
   ],
   "source": [
    "future = m.make_future_dataframe(periods=14)\n",
    "future['floor'] = 0\n",
    "future.tail()"
   ]
  },
  {
   "cell_type": "code",
   "execution_count": 19,
   "metadata": {},
   "outputs": [
    {
     "data": {
      "text/html": [
       "<div>\n",
       "<style>\n",
       "    .dataframe thead tr:only-child th {\n",
       "        text-align: right;\n",
       "    }\n",
       "\n",
       "    .dataframe thead th {\n",
       "        text-align: left;\n",
       "    }\n",
       "\n",
       "    .dataframe tbody tr th {\n",
       "        vertical-align: top;\n",
       "    }\n",
       "</style>\n",
       "<table border=\"1\" class=\"dataframe\">\n",
       "  <thead>\n",
       "    <tr style=\"text-align: right;\">\n",
       "      <th></th>\n",
       "      <th>ds</th>\n",
       "      <th>yhat</th>\n",
       "      <th>yhat_lower</th>\n",
       "      <th>yhat_upper</th>\n",
       "    </tr>\n",
       "  </thead>\n",
       "  <tbody>\n",
       "    <tr>\n",
       "      <th>22</th>\n",
       "      <td>2013-06-05</td>\n",
       "      <td>203.132311</td>\n",
       "      <td>-142.579762</td>\n",
       "      <td>532.570416</td>\n",
       "    </tr>\n",
       "    <tr>\n",
       "      <th>23</th>\n",
       "      <td>2013-06-06</td>\n",
       "      <td>167.936558</td>\n",
       "      <td>-186.720083</td>\n",
       "      <td>474.473573</td>\n",
       "    </tr>\n",
       "    <tr>\n",
       "      <th>24</th>\n",
       "      <td>2013-06-07</td>\n",
       "      <td>205.432488</td>\n",
       "      <td>-123.809430</td>\n",
       "      <td>520.327849</td>\n",
       "    </tr>\n",
       "    <tr>\n",
       "      <th>25</th>\n",
       "      <td>2013-06-08</td>\n",
       "      <td>209.834060</td>\n",
       "      <td>-131.254904</td>\n",
       "      <td>549.901285</td>\n",
       "    </tr>\n",
       "    <tr>\n",
       "      <th>26</th>\n",
       "      <td>2013-06-09</td>\n",
       "      <td>233.701479</td>\n",
       "      <td>-97.368599</td>\n",
       "      <td>570.919553</td>\n",
       "    </tr>\n",
       "  </tbody>\n",
       "</table>\n",
       "</div>"
      ],
      "text/plain": [
       "           ds        yhat  yhat_lower  yhat_upper\n",
       "22 2013-06-05  203.132311 -142.579762  532.570416\n",
       "23 2013-06-06  167.936558 -186.720083  474.473573\n",
       "24 2013-06-07  205.432488 -123.809430  520.327849\n",
       "25 2013-06-08  209.834060 -131.254904  549.901285\n",
       "26 2013-06-09  233.701479  -97.368599  570.919553"
      ]
     },
     "execution_count": 19,
     "metadata": {},
     "output_type": "execute_result"
    }
   ],
   "source": [
    "forecast = m.predict(future)\n",
    "forecast[['ds', 'yhat', 'yhat_lower', 'yhat_upper']].tail()"
   ]
  },
  {
   "cell_type": "code",
   "execution_count": 91,
   "metadata": {},
   "outputs": [
    {
     "data": {
      "text/html": [
       "<div>\n",
       "<style>\n",
       "    .dataframe thead tr:only-child th {\n",
       "        text-align: right;\n",
       "    }\n",
       "\n",
       "    .dataframe thead th {\n",
       "        text-align: left;\n",
       "    }\n",
       "\n",
       "    .dataframe tbody tr th {\n",
       "        vertical-align: top;\n",
       "    }\n",
       "</style>\n",
       "<table border=\"1\" class=\"dataframe\">\n",
       "  <thead>\n",
       "    <tr style=\"text-align: right;\">\n",
       "      <th></th>\n",
       "      <th>ds</th>\n",
       "      <th>trend</th>\n",
       "      <th>trend_lower</th>\n",
       "      <th>trend_upper</th>\n",
       "      <th>yhat_lower</th>\n",
       "      <th>yhat_upper</th>\n",
       "      <th>seasonal</th>\n",
       "      <th>seasonal_lower</th>\n",
       "      <th>seasonal_upper</th>\n",
       "      <th>seasonalities</th>\n",
       "      <th>seasonalities_lower</th>\n",
       "      <th>seasonalities_upper</th>\n",
       "      <th>weekly</th>\n",
       "      <th>weekly_lower</th>\n",
       "      <th>weekly_upper</th>\n",
       "      <th>yhat</th>\n",
       "    </tr>\n",
       "  </thead>\n",
       "  <tbody>\n",
       "    <tr>\n",
       "      <th>0</th>\n",
       "      <td>2013-05-13</td>\n",
       "      <td>132.383524</td>\n",
       "      <td>132.383524</td>\n",
       "      <td>132.383524</td>\n",
       "      <td>-244.544797</td>\n",
       "      <td>459.567615</td>\n",
       "      <td>-32.594229</td>\n",
       "      <td>-32.594229</td>\n",
       "      <td>-32.594229</td>\n",
       "      <td>-32.594229</td>\n",
       "      <td>-32.594229</td>\n",
       "      <td>-32.594229</td>\n",
       "      <td>-32.594229</td>\n",
       "      <td>-32.594229</td>\n",
       "      <td>-32.594229</td>\n",
       "      <td>99.789295</td>\n",
       "    </tr>\n",
       "    <tr>\n",
       "      <th>1</th>\n",
       "      <td>2013-05-14</td>\n",
       "      <td>139.518150</td>\n",
       "      <td>139.518150</td>\n",
       "      <td>139.518150</td>\n",
       "      <td>358.344169</td>\n",
       "      <td>1030.764606</td>\n",
       "      <td>566.303162</td>\n",
       "      <td>566.303162</td>\n",
       "      <td>566.303162</td>\n",
       "      <td>566.303162</td>\n",
       "      <td>566.303162</td>\n",
       "      <td>566.303162</td>\n",
       "      <td>566.303162</td>\n",
       "      <td>566.303162</td>\n",
       "      <td>566.303162</td>\n",
       "      <td>705.821312</td>\n",
       "    </tr>\n",
       "    <tr>\n",
       "      <th>2</th>\n",
       "      <td>2013-05-15</td>\n",
       "      <td>146.652776</td>\n",
       "      <td>146.652776</td>\n",
       "      <td>146.652776</td>\n",
       "      <td>-284.335542</td>\n",
       "      <td>397.075617</td>\n",
       "      <td>-93.347603</td>\n",
       "      <td>-93.347603</td>\n",
       "      <td>-93.347603</td>\n",
       "      <td>-93.347603</td>\n",
       "      <td>-93.347603</td>\n",
       "      <td>-93.347603</td>\n",
       "      <td>-93.347603</td>\n",
       "      <td>-93.347603</td>\n",
       "      <td>-93.347603</td>\n",
       "      <td>53.305173</td>\n",
       "    </tr>\n",
       "    <tr>\n",
       "      <th>3</th>\n",
       "      <td>2013-05-16</td>\n",
       "      <td>153.787403</td>\n",
       "      <td>153.787403</td>\n",
       "      <td>153.787403</td>\n",
       "      <td>-304.475217</td>\n",
       "      <td>332.319413</td>\n",
       "      <td>-135.677982</td>\n",
       "      <td>-135.677982</td>\n",
       "      <td>-135.677982</td>\n",
       "      <td>-135.677982</td>\n",
       "      <td>-135.677982</td>\n",
       "      <td>-135.677982</td>\n",
       "      <td>-135.677982</td>\n",
       "      <td>-135.677982</td>\n",
       "      <td>-135.677982</td>\n",
       "      <td>18.109421</td>\n",
       "    </tr>\n",
       "    <tr>\n",
       "      <th>4</th>\n",
       "      <td>2013-05-17</td>\n",
       "      <td>160.922029</td>\n",
       "      <td>160.922029</td>\n",
       "      <td>160.922029</td>\n",
       "      <td>-264.460114</td>\n",
       "      <td>381.182514</td>\n",
       "      <td>-105.316678</td>\n",
       "      <td>-105.316678</td>\n",
       "      <td>-105.316678</td>\n",
       "      <td>-105.316678</td>\n",
       "      <td>-105.316678</td>\n",
       "      <td>-105.316678</td>\n",
       "      <td>-105.316678</td>\n",
       "      <td>-105.316678</td>\n",
       "      <td>-105.316678</td>\n",
       "      <td>55.605352</td>\n",
       "    </tr>\n",
       "  </tbody>\n",
       "</table>\n",
       "</div>"
      ],
      "text/plain": [
       "          ds       trend  trend_lower  trend_upper  yhat_lower   yhat_upper  \\\n",
       "0 2013-05-13  132.383524   132.383524   132.383524 -244.544797   459.567615   \n",
       "1 2013-05-14  139.518150   139.518150   139.518150  358.344169  1030.764606   \n",
       "2 2013-05-15  146.652776   146.652776   146.652776 -284.335542   397.075617   \n",
       "3 2013-05-16  153.787403   153.787403   153.787403 -304.475217   332.319413   \n",
       "4 2013-05-17  160.922029   160.922029   160.922029 -264.460114   381.182514   \n",
       "\n",
       "     seasonal  seasonal_lower  seasonal_upper  seasonalities  \\\n",
       "0  -32.594229      -32.594229      -32.594229     -32.594229   \n",
       "1  566.303162      566.303162      566.303162     566.303162   \n",
       "2  -93.347603      -93.347603      -93.347603     -93.347603   \n",
       "3 -135.677982     -135.677982     -135.677982    -135.677982   \n",
       "4 -105.316678     -105.316678     -105.316678    -105.316678   \n",
       "\n",
       "   seasonalities_lower  seasonalities_upper      weekly  weekly_lower  \\\n",
       "0           -32.594229           -32.594229  -32.594229    -32.594229   \n",
       "1           566.303162           566.303162  566.303162    566.303162   \n",
       "2           -93.347603           -93.347603  -93.347603    -93.347603   \n",
       "3          -135.677982          -135.677982 -135.677982   -135.677982   \n",
       "4          -105.316678          -105.316678 -105.316678   -105.316678   \n",
       "\n",
       "   weekly_upper        yhat  \n",
       "0    -32.594229   99.789295  \n",
       "1    566.303162  705.821312  \n",
       "2    -93.347603   53.305173  \n",
       "3   -135.677982   18.109421  \n",
       "4   -105.316678   55.605352  "
      ]
     },
     "execution_count": 91,
     "metadata": {},
     "output_type": "execute_result"
    }
   ],
   "source": [
    "forecast.head()"
   ]
  },
  {
   "cell_type": "code",
   "execution_count": 106,
   "metadata": {},
   "outputs": [
    {
     "name": "stdout",
     "output_type": "stream",
     "text": [
      "You have save 14% today.\n"
     ]
    }
   ],
   "source": [
    "today_spend = 200\n",
    "today_predict = forecast.set_index('ds', drop = False).loc['2013-06-09','yhat']\n",
    "percent_used = today_spend / today_predict * 100\n",
    "\n",
    "if percent_used <= 100:\n",
    "    print('You have save {:.0f}% today.'.format(100 - percent_used))\n",
    "else:\n",
    "    print('You have exceed spending of {:.0f}% today.'.format(percent_used - 100))"
   ]
  },
  {
   "cell_type": "code",
   "execution_count": 57,
   "metadata": {},
   "outputs": [
    {
     "data": {
      "text/html": [
       "<div>\n",
       "<style>\n",
       "    .dataframe thead tr:only-child th {\n",
       "        text-align: right;\n",
       "    }\n",
       "\n",
       "    .dataframe thead th {\n",
       "        text-align: left;\n",
       "    }\n",
       "\n",
       "    .dataframe tbody tr th {\n",
       "        vertical-align: top;\n",
       "    }\n",
       "</style>\n",
       "<table border=\"1\" class=\"dataframe\">\n",
       "  <thead>\n",
       "    <tr style=\"text-align: right;\">\n",
       "      <th></th>\n",
       "      <th>ds</th>\n",
       "      <th>trend</th>\n",
       "      <th>trend_lower</th>\n",
       "      <th>trend_upper</th>\n",
       "      <th>yhat_lower</th>\n",
       "      <th>yhat_upper</th>\n",
       "      <th>seasonal</th>\n",
       "      <th>seasonal_lower</th>\n",
       "      <th>seasonal_upper</th>\n",
       "      <th>seasonalities</th>\n",
       "      <th>seasonalities_lower</th>\n",
       "      <th>seasonalities_upper</th>\n",
       "      <th>weekly</th>\n",
       "      <th>weekly_lower</th>\n",
       "      <th>weekly_upper</th>\n",
       "      <th>yhat</th>\n",
       "    </tr>\n",
       "  </thead>\n",
       "  <tbody>\n",
       "    <tr>\n",
       "      <th>22</th>\n",
       "      <td>2013-06-05</td>\n",
       "      <td>296.479914</td>\n",
       "      <td>296.479873</td>\n",
       "      <td>296.479955</td>\n",
       "      <td>-142.579762</td>\n",
       "      <td>532.570416</td>\n",
       "      <td>-93.347603</td>\n",
       "      <td>-93.347603</td>\n",
       "      <td>-93.347603</td>\n",
       "      <td>-93.347603</td>\n",
       "      <td>-93.347603</td>\n",
       "      <td>-93.347603</td>\n",
       "      <td>-93.347603</td>\n",
       "      <td>-93.347603</td>\n",
       "      <td>-93.347603</td>\n",
       "      <td>203.132311</td>\n",
       "    </tr>\n",
       "    <tr>\n",
       "      <th>23</th>\n",
       "      <td>2013-06-06</td>\n",
       "      <td>303.614540</td>\n",
       "      <td>303.614492</td>\n",
       "      <td>303.614585</td>\n",
       "      <td>-186.720083</td>\n",
       "      <td>474.473573</td>\n",
       "      <td>-135.677982</td>\n",
       "      <td>-135.677982</td>\n",
       "      <td>-135.677982</td>\n",
       "      <td>-135.677982</td>\n",
       "      <td>-135.677982</td>\n",
       "      <td>-135.677982</td>\n",
       "      <td>-135.677982</td>\n",
       "      <td>-135.677982</td>\n",
       "      <td>-135.677982</td>\n",
       "      <td>167.936558</td>\n",
       "    </tr>\n",
       "    <tr>\n",
       "      <th>24</th>\n",
       "      <td>2013-06-07</td>\n",
       "      <td>310.749165</td>\n",
       "      <td>310.749112</td>\n",
       "      <td>310.749218</td>\n",
       "      <td>-123.809430</td>\n",
       "      <td>520.327849</td>\n",
       "      <td>-105.316678</td>\n",
       "      <td>-105.316678</td>\n",
       "      <td>-105.316678</td>\n",
       "      <td>-105.316678</td>\n",
       "      <td>-105.316678</td>\n",
       "      <td>-105.316678</td>\n",
       "      <td>-105.316678</td>\n",
       "      <td>-105.316678</td>\n",
       "      <td>-105.316678</td>\n",
       "      <td>205.432488</td>\n",
       "    </tr>\n",
       "    <tr>\n",
       "      <th>25</th>\n",
       "      <td>2013-06-08</td>\n",
       "      <td>317.883791</td>\n",
       "      <td>317.883731</td>\n",
       "      <td>317.883850</td>\n",
       "      <td>-131.254904</td>\n",
       "      <td>549.901285</td>\n",
       "      <td>-108.049731</td>\n",
       "      <td>-108.049731</td>\n",
       "      <td>-108.049731</td>\n",
       "      <td>-108.049731</td>\n",
       "      <td>-108.049731</td>\n",
       "      <td>-108.049731</td>\n",
       "      <td>-108.049731</td>\n",
       "      <td>-108.049731</td>\n",
       "      <td>-108.049731</td>\n",
       "      <td>209.834060</td>\n",
       "    </tr>\n",
       "    <tr>\n",
       "      <th>26</th>\n",
       "      <td>2013-06-09</td>\n",
       "      <td>325.018417</td>\n",
       "      <td>325.018347</td>\n",
       "      <td>325.018483</td>\n",
       "      <td>-97.368599</td>\n",
       "      <td>570.919553</td>\n",
       "      <td>-91.316938</td>\n",
       "      <td>-91.316938</td>\n",
       "      <td>-91.316938</td>\n",
       "      <td>-91.316938</td>\n",
       "      <td>-91.316938</td>\n",
       "      <td>-91.316938</td>\n",
       "      <td>-91.316938</td>\n",
       "      <td>-91.316938</td>\n",
       "      <td>-91.316938</td>\n",
       "      <td>233.701479</td>\n",
       "    </tr>\n",
       "  </tbody>\n",
       "</table>\n",
       "</div>"
      ],
      "text/plain": [
       "           ds       trend  trend_lower  trend_upper  yhat_lower  yhat_upper  \\\n",
       "22 2013-06-05  296.479914   296.479873   296.479955 -142.579762  532.570416   \n",
       "23 2013-06-06  303.614540   303.614492   303.614585 -186.720083  474.473573   \n",
       "24 2013-06-07  310.749165   310.749112   310.749218 -123.809430  520.327849   \n",
       "25 2013-06-08  317.883791   317.883731   317.883850 -131.254904  549.901285   \n",
       "26 2013-06-09  325.018417   325.018347   325.018483  -97.368599  570.919553   \n",
       "\n",
       "      seasonal  seasonal_lower  seasonal_upper  seasonalities  \\\n",
       "22  -93.347603      -93.347603      -93.347603     -93.347603   \n",
       "23 -135.677982     -135.677982     -135.677982    -135.677982   \n",
       "24 -105.316678     -105.316678     -105.316678    -105.316678   \n",
       "25 -108.049731     -108.049731     -108.049731    -108.049731   \n",
       "26  -91.316938      -91.316938      -91.316938     -91.316938   \n",
       "\n",
       "    seasonalities_lower  seasonalities_upper      weekly  weekly_lower  \\\n",
       "22           -93.347603           -93.347603  -93.347603    -93.347603   \n",
       "23          -135.677982          -135.677982 -135.677982   -135.677982   \n",
       "24          -105.316678          -105.316678 -105.316678   -105.316678   \n",
       "25          -108.049731          -108.049731 -108.049731   -108.049731   \n",
       "26           -91.316938           -91.316938  -91.316938    -91.316938   \n",
       "\n",
       "    weekly_upper        yhat  \n",
       "22    -93.347603  203.132311  \n",
       "23   -135.677982  167.936558  \n",
       "24   -105.316678  205.432488  \n",
       "25   -108.049731  209.834060  \n",
       "26    -91.316938  233.701479  "
      ]
     },
     "execution_count": 57,
     "metadata": {},
     "output_type": "execute_result"
    }
   ],
   "source": [
    "forecast.tail()"
   ]
  },
  {
   "cell_type": "code",
   "execution_count": 29,
   "metadata": {},
   "outputs": [
    {
     "data": {
      "text/html": [
       "<div>\n",
       "<style>\n",
       "    .dataframe thead tr:only-child th {\n",
       "        text-align: right;\n",
       "    }\n",
       "\n",
       "    .dataframe thead th {\n",
       "        text-align: left;\n",
       "    }\n",
       "\n",
       "    .dataframe tbody tr th {\n",
       "        vertical-align: top;\n",
       "    }\n",
       "</style>\n",
       "<table border=\"1\" class=\"dataframe\">\n",
       "  <thead>\n",
       "    <tr style=\"text-align: right;\">\n",
       "      <th></th>\n",
       "      <th>ds</th>\n",
       "      <th>y</th>\n",
       "      <th>yhat</th>\n",
       "    </tr>\n",
       "  </thead>\n",
       "  <tbody>\n",
       "    <tr>\n",
       "      <th>0</th>\n",
       "      <td>2013-05-13</td>\n",
       "      <td>9.94</td>\n",
       "      <td>99.789295</td>\n",
       "    </tr>\n",
       "    <tr>\n",
       "      <th>1</th>\n",
       "      <td>2013-05-14</td>\n",
       "      <td>83.77</td>\n",
       "      <td>705.821312</td>\n",
       "    </tr>\n",
       "    <tr>\n",
       "      <th>2</th>\n",
       "      <td>2013-05-15</td>\n",
       "      <td>7.30</td>\n",
       "      <td>53.305173</td>\n",
       "    </tr>\n",
       "    <tr>\n",
       "      <th>3</th>\n",
       "      <td>2013-05-16</td>\n",
       "      <td>26.80</td>\n",
       "      <td>18.109421</td>\n",
       "    </tr>\n",
       "    <tr>\n",
       "      <th>4</th>\n",
       "      <td>2013-05-17</td>\n",
       "      <td>62.91</td>\n",
       "      <td>55.605352</td>\n",
       "    </tr>\n",
       "  </tbody>\n",
       "</table>\n",
       "</div>"
      ],
      "text/plain": [
       "          ds      y        yhat\n",
       "0 2013-05-13   9.94   99.789295\n",
       "1 2013-05-14  83.77  705.821312\n",
       "2 2013-05-15   7.30   53.305173\n",
       "3 2013-05-16  26.80   18.109421\n",
       "4 2013-05-17  62.91   55.605352"
      ]
     },
     "execution_count": 29,
     "metadata": {},
     "output_type": "execute_result"
    }
   ],
   "source": [
    "result = pd.merge(df_trx, forecast[['ds','yhat']], how='left', on=['ds'])\n",
    "result.head()"
   ]
  },
  {
   "cell_type": "code",
   "execution_count": 111,
   "metadata": {},
   "outputs": [
    {
     "name": "stdout",
     "output_type": "stream",
     "text": [
      "result r2:  0.496016011218\n",
      "result MSE:  69867.9828755\n",
      "result MAE:  145.910763641\n",
      "result RMSE:  264.3255244494723\n"
     ]
    }
   ],
   "source": [
    "from sklearn.metrics import mean_squared_error, r2_score, mean_absolute_error\n",
    "\n",
    "print('result r2: ', r2_score(result.y, result.yhat))\n",
    "print('result MSE: ', mean_squared_error(result.y, result.yhat))\n",
    "print('result MAE: ', mean_absolute_error(result.y, result.yhat))\n",
    "print('result RMSE: ', ((result.y - result.yhat) ** 2).mean() ** .5)"
   ]
  },
  {
   "cell_type": "code",
   "execution_count": 132,
   "metadata": {},
   "outputs": [
    {
     "data": {
      "image/png": "[encoded data removed]",
      "text/plain": [
       "<matplotlib.figure.Figure at 0x26806e3e668>"
      ]
     },
     "metadata": {},
     "output_type": "display_data"
    }
   ],
   "source": [
    "m.plot(forecast);"
   ]
  },
  {
   "cell_type": "code",
   "execution_count": 109,
   "metadata": {
    "collapsed": true
   },
   "outputs": [
    {
     "data": {
      "image/png": "[encoded data removed]",
      "text/plain": [
       "<matplotlib.figure.Figure at 0x26806b11470>"
      ]
     },
     "execution_count": 109,
     "metadata": {},
     "output_type": "execute_result"
    },
    {
     "data": {
      "image/png": "[encoded data removed]",
      "text/plain": [
       "<matplotlib.figure.Figure at 0x26806b11470>"
      ]
     },
     "metadata": {},
     "output_type": "display_data"
    }
   ],
   "source": [
    "m.plot_components(forecast)"
   ]
  },
  {
   "cell_type": "code",
   "execution_count": 115,
   "metadata": {},
   "outputs": [],
   "source": [
    "forecast['week'] = forecast['ds'].dt.week"
   ]
  },
  {
   "cell_type": "code",
   "execution_count": 56,
   "metadata": {
    "scrolled": true
   },
   "outputs": [
    {
     "data": {
      "text/html": [
       "<div>\n",
       "<style>\n",
       "    .dataframe thead tr:only-child th {\n",
       "        text-align: right;\n",
       "    }\n",
       "\n",
       "    .dataframe thead th {\n",
       "        text-align: left;\n",
       "    }\n",
       "\n",
       "    .dataframe tbody tr th {\n",
       "        vertical-align: top;\n",
       "    }\n",
       "</style>\n",
       "<table border=\"1\" class=\"dataframe\">\n",
       "  <thead>\n",
       "    <tr style=\"text-align: right;\">\n",
       "      <th></th>\n",
       "      <th>ds</th>\n",
       "      <th>trend</th>\n",
       "      <th>trend_lower</th>\n",
       "      <th>trend_upper</th>\n",
       "      <th>yhat_lower</th>\n",
       "      <th>yhat_upper</th>\n",
       "      <th>seasonal</th>\n",
       "      <th>seasonal_lower</th>\n",
       "      <th>seasonal_upper</th>\n",
       "      <th>seasonalities</th>\n",
       "      <th>seasonalities_lower</th>\n",
       "      <th>seasonalities_upper</th>\n",
       "      <th>weekly</th>\n",
       "      <th>weekly_lower</th>\n",
       "      <th>weekly_upper</th>\n",
       "      <th>yhat</th>\n",
       "    </tr>\n",
       "  </thead>\n",
       "  <tbody>\n",
       "    <tr>\n",
       "      <th>0</th>\n",
       "      <td>2013-05-13</td>\n",
       "      <td>132.383524</td>\n",
       "      <td>132.383524</td>\n",
       "      <td>132.383524</td>\n",
       "      <td>-244.544797</td>\n",
       "      <td>459.567615</td>\n",
       "      <td>-32.594229</td>\n",
       "      <td>-32.594229</td>\n",
       "      <td>-32.594229</td>\n",
       "      <td>-32.594229</td>\n",
       "      <td>-32.594229</td>\n",
       "      <td>-32.594229</td>\n",
       "      <td>-32.594229</td>\n",
       "      <td>-32.594229</td>\n",
       "      <td>-32.594229</td>\n",
       "      <td>99.789295</td>\n",
       "    </tr>\n",
       "    <tr>\n",
       "      <th>1</th>\n",
       "      <td>2013-05-14</td>\n",
       "      <td>139.518150</td>\n",
       "      <td>139.518150</td>\n",
       "      <td>139.518150</td>\n",
       "      <td>358.344169</td>\n",
       "      <td>1030.764606</td>\n",
       "      <td>566.303162</td>\n",
       "      <td>566.303162</td>\n",
       "      <td>566.303162</td>\n",
       "      <td>566.303162</td>\n",
       "      <td>566.303162</td>\n",
       "      <td>566.303162</td>\n",
       "      <td>566.303162</td>\n",
       "      <td>566.303162</td>\n",
       "      <td>566.303162</td>\n",
       "      <td>705.821312</td>\n",
       "    </tr>\n",
       "    <tr>\n",
       "      <th>2</th>\n",
       "      <td>2013-05-15</td>\n",
       "      <td>146.652776</td>\n",
       "      <td>146.652776</td>\n",
       "      <td>146.652776</td>\n",
       "      <td>-284.335542</td>\n",
       "      <td>397.075617</td>\n",
       "      <td>-93.347603</td>\n",
       "      <td>-93.347603</td>\n",
       "      <td>-93.347603</td>\n",
       "      <td>-93.347603</td>\n",
       "      <td>-93.347603</td>\n",
       "      <td>-93.347603</td>\n",
       "      <td>-93.347603</td>\n",
       "      <td>-93.347603</td>\n",
       "      <td>-93.347603</td>\n",
       "      <td>53.305173</td>\n",
       "    </tr>\n",
       "    <tr>\n",
       "      <th>3</th>\n",
       "      <td>2013-05-16</td>\n",
       "      <td>153.787403</td>\n",
       "      <td>153.787403</td>\n",
       "      <td>153.787403</td>\n",
       "      <td>-304.475217</td>\n",
       "      <td>332.319413</td>\n",
       "      <td>-135.677982</td>\n",
       "      <td>-135.677982</td>\n",
       "      <td>-135.677982</td>\n",
       "      <td>-135.677982</td>\n",
       "      <td>-135.677982</td>\n",
       "      <td>-135.677982</td>\n",
       "      <td>-135.677982</td>\n",
       "      <td>-135.677982</td>\n",
       "      <td>-135.677982</td>\n",
       "      <td>18.109421</td>\n",
       "    </tr>\n",
       "    <tr>\n",
       "      <th>4</th>\n",
       "      <td>2013-05-17</td>\n",
       "      <td>160.922029</td>\n",
       "      <td>160.922029</td>\n",
       "      <td>160.922029</td>\n",
       "      <td>-264.460114</td>\n",
       "      <td>381.182514</td>\n",
       "      <td>-105.316678</td>\n",
       "      <td>-105.316678</td>\n",
       "      <td>-105.316678</td>\n",
       "      <td>-105.316678</td>\n",
       "      <td>-105.316678</td>\n",
       "      <td>-105.316678</td>\n",
       "      <td>-105.316678</td>\n",
       "      <td>-105.316678</td>\n",
       "      <td>-105.316678</td>\n",
       "      <td>55.605352</td>\n",
       "    </tr>\n",
       "  </tbody>\n",
       "</table>\n",
       "</div>"
      ],
      "text/plain": [
       "          ds       trend  trend_lower  trend_upper  yhat_lower   yhat_upper  \\\n",
       "0 2013-05-13  132.383524   132.383524   132.383524 -244.544797   459.567615   \n",
       "1 2013-05-14  139.518150   139.518150   139.518150  358.344169  1030.764606   \n",
       "2 2013-05-15  146.652776   146.652776   146.652776 -284.335542   397.075617   \n",
       "3 2013-05-16  153.787403   153.787403   153.787403 -304.475217   332.319413   \n",
       "4 2013-05-17  160.922029   160.922029   160.922029 -264.460114   381.182514   \n",
       "\n",
       "     seasonal  seasonal_lower  seasonal_upper  seasonalities  \\\n",
       "0  -32.594229      -32.594229      -32.594229     -32.594229   \n",
       "1  566.303162      566.303162      566.303162     566.303162   \n",
       "2  -93.347603      -93.347603      -93.347603     -93.347603   \n",
       "3 -135.677982     -135.677982     -135.677982    -135.677982   \n",
       "4 -105.316678     -105.316678     -105.316678    -105.316678   \n",
       "\n",
       "   seasonalities_lower  seasonalities_upper      weekly  weekly_lower  \\\n",
       "0           -32.594229           -32.594229  -32.594229    -32.594229   \n",
       "1           566.303162           566.303162  566.303162    566.303162   \n",
       "2           -93.347603           -93.347603  -93.347603    -93.347603   \n",
       "3          -135.677982          -135.677982 -135.677982   -135.677982   \n",
       "4          -105.316678          -105.316678 -105.316678   -105.316678   \n",
       "\n",
       "   weekly_upper        yhat  \n",
       "0    -32.594229   99.789295  \n",
       "1    566.303162  705.821312  \n",
       "2    -93.347603   53.305173  \n",
       "3   -135.677982   18.109421  \n",
       "4   -105.316678   55.605352  "
      ]
     },
     "execution_count": 56,
     "metadata": {},
     "output_type": "execute_result"
    }
   ],
   "source": [
    "forecast.head()"
   ]
  },
  {
   "cell_type": "markdown",
   "metadata": {},
   "source": [
    "scaling the data so that it can be used by other user"
   ]
  },
  {
   "cell_type": "code",
   "execution_count": 35,
   "metadata": {},
   "outputs": [],
   "source": [
    "from sklearn.preprocessing import MinMaxScaler\n",
    "from sklearn.preprocessing import StandardScaler"
   ]
  },
  {
   "cell_type": "code",
   "execution_count": 48,
   "metadata": {},
   "outputs": [
    {
     "data": {
      "text/html": [
       "<div>\n",
       "<style>\n",
       "    .dataframe thead tr:only-child th {\n",
       "        text-align: right;\n",
       "    }\n",
       "\n",
       "    .dataframe thead th {\n",
       "        text-align: left;\n",
       "    }\n",
       "\n",
       "    .dataframe tbody tr th {\n",
       "        vertical-align: top;\n",
       "    }\n",
       "</style>\n",
       "<table border=\"1\" class=\"dataframe\">\n",
       "  <thead>\n",
       "    <tr style=\"text-align: right;\">\n",
       "      <th></th>\n",
       "      <th>ds</th>\n",
       "      <th>y</th>\n",
       "    </tr>\n",
       "  </thead>\n",
       "  <tbody>\n",
       "    <tr>\n",
       "      <th>7</th>\n",
       "      <td>2013-05-13</td>\n",
       "      <td>9.94</td>\n",
       "    </tr>\n",
       "    <tr>\n",
       "      <th>8</th>\n",
       "      <td>2013-05-14</td>\n",
       "      <td>83.77</td>\n",
       "    </tr>\n",
       "    <tr>\n",
       "      <th>9</th>\n",
       "      <td>2013-05-15</td>\n",
       "      <td>7.30</td>\n",
       "    </tr>\n",
       "    <tr>\n",
       "      <th>10</th>\n",
       "      <td>2013-05-16</td>\n",
       "      <td>26.80</td>\n",
       "    </tr>\n",
       "    <tr>\n",
       "      <th>11</th>\n",
       "      <td>2013-05-17</td>\n",
       "      <td>62.91</td>\n",
       "    </tr>\n",
       "  </tbody>\n",
       "</table>\n",
       "</div>"
      ],
      "text/plain": [
       "           ds      y\n",
       "7  2013-05-13   9.94\n",
       "8  2013-05-14  83.77\n",
       "9  2013-05-15   7.30\n",
       "10 2013-05-16  26.80\n",
       "11 2013-05-17  62.91"
      ]
     },
     "execution_count": 48,
     "metadata": {},
     "output_type": "execute_result"
    }
   ],
   "source": [
    "df_trx.head()"
   ]
  },
  {
   "cell_type": "code",
   "execution_count": 52,
   "metadata": {},
   "outputs": [],
   "source": [
    "# MinMax = MinMaxScaler().fit_(df_trx[['y']])\n",
    "# df_ms = MinMax.transform(df_trx[['ds','y']])\n",
    "df_ms = MinMaxScaler().fit_transform(df_trx[['y']]) #simplify code\n",
    "df_sd = StandardScaler().fit_transform(df_trx[['y']])"
   ]
  },
  {
   "cell_type": "code",
   "execution_count": 53,
   "metadata": {},
   "outputs": [
    {
     "name": "stdout",
     "output_type": "stream",
     "text": [
      "[ 0.00183545]\n",
      "[ 0.05316545]\n",
      "[ 0.]\n",
      "[ 0.0135573]\n",
      "[ 0.03866262]\n"
     ]
    }
   ],
   "source": [
    "# for i in range(5):\n",
    "#     print(df_ms[i])\n",
    "    \n",
    "df_trx['norm_y'] = df_ms\n",
    "df_trx['sd_y'] = df_sd"
   ]
  },
  {
   "cell_type": "code",
   "execution_count": 55,
   "metadata": {},
   "outputs": [
    {
     "data": {
      "text/html": [
       "<div>\n",
       "<style>\n",
       "    .dataframe thead tr:only-child th {\n",
       "        text-align: right;\n",
       "    }\n",
       "\n",
       "    .dataframe thead th {\n",
       "        text-align: left;\n",
       "    }\n",
       "\n",
       "    .dataframe tbody tr th {\n",
       "        vertical-align: top;\n",
       "    }\n",
       "</style>\n",
       "<table border=\"1\" class=\"dataframe\">\n",
       "  <thead>\n",
       "    <tr style=\"text-align: right;\">\n",
       "      <th></th>\n",
       "      <th>ds</th>\n",
       "      <th>y</th>\n",
       "      <th>norm_y</th>\n",
       "      <th>sd_y</th>\n",
       "    </tr>\n",
       "  </thead>\n",
       "  <tbody>\n",
       "    <tr>\n",
       "      <th>7</th>\n",
       "      <td>2013-05-13</td>\n",
       "      <td>9.94</td>\n",
       "      <td>0.001835</td>\n",
       "      <td>-0.438990</td>\n",
       "    </tr>\n",
       "    <tr>\n",
       "      <th>8</th>\n",
       "      <td>2013-05-14</td>\n",
       "      <td>83.77</td>\n",
       "      <td>0.053165</td>\n",
       "      <td>-0.240699</td>\n",
       "    </tr>\n",
       "    <tr>\n",
       "      <th>9</th>\n",
       "      <td>2013-05-15</td>\n",
       "      <td>7.30</td>\n",
       "      <td>0.000000</td>\n",
       "      <td>-0.446080</td>\n",
       "    </tr>\n",
       "    <tr>\n",
       "      <th>10</th>\n",
       "      <td>2013-05-16</td>\n",
       "      <td>26.80</td>\n",
       "      <td>0.013557</td>\n",
       "      <td>-0.393707</td>\n",
       "    </tr>\n",
       "    <tr>\n",
       "      <th>11</th>\n",
       "      <td>2013-05-17</td>\n",
       "      <td>62.91</td>\n",
       "      <td>0.038663</td>\n",
       "      <td>-0.296724</td>\n",
       "    </tr>\n",
       "  </tbody>\n",
       "</table>\n",
       "</div>"
      ],
      "text/plain": [
       "           ds      y    norm_y      sd_y\n",
       "7  2013-05-13   9.94  0.001835 -0.438990\n",
       "8  2013-05-14  83.77  0.053165 -0.240699\n",
       "9  2013-05-15   7.30  0.000000 -0.446080\n",
       "10 2013-05-16  26.80  0.013557 -0.393707\n",
       "11 2013-05-17  62.91  0.038663 -0.296724"
      ]
     },
     "execution_count": 55,
     "metadata": {},
     "output_type": "execute_result"
    }
   ],
   "source": [
    "df_trx.head()"
   ]
  },
  {
   "cell_type": "markdown",
   "metadata": {},
   "source": [
    "### Final Script"
   ]
  },
  {
   "cell_type": "code",
   "execution_count": null,
   "metadata": {},
   "outputs": [],
   "source": []
  }
 ],
 "metadata": {
  "kernelspec": {
   "display_name": "Python 3",
   "language": "python",
   "name": "python3"
  },
  "language_info": {
   "codemirror_mode": {
    "name": "ipython",
    "version": 3
   },
   "file_extension": ".py",
   "mimetype": "text/x-python",
   "name": "python",
   "nbconvert_exporter": "python",
   "pygments_lexer": "ipython3",
   "version": "3.6.3"
  }
 },
 "nbformat": 4,
 "nbformat_minor": 2
}
